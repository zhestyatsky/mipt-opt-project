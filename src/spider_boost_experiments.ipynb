{
 "cells": [
  {
   "cell_type": "code",
   "execution_count": 8,
   "metadata": {
    "colab": {},
    "colab_type": "code",
    "id": "0OAWkK4JY7hg"
   },
   "outputs": [],
   "source": [
    "import copy\n",
    "import matplotlib.pyplot as plt\n",
    "import numpy as np\n",
    "import torch\n",
    "import torchvision.datasets as dsets\n",
    "import torchvision.transforms as transforms\n",
    "import sys\n",
    "\n",
    "import utils\n",
    "from spider_boost import spider_boost"
   ]
  },
  {
   "cell_type": "code",
   "execution_count": 2,
   "metadata": {
    "colab": {},
    "colab_type": "code",
    "id": "HsfTiE5TY7h2"
   },
   "outputs": [],
   "source": [
    "train_dataset = dsets.MNIST(root='~/.pytorch/MNIST_data/', train=True, transform=transforms.ToTensor(), download=True)\n",
    "train_dataset = utils.DatasetWrapper(train_dataset)"
   ]
  },
  {
   "cell_type": "code",
   "execution_count": 3,
   "metadata": {
    "colab": {},
    "colab_type": "code",
    "id": "Af4gw5CJY7iE"
   },
   "outputs": [],
   "source": [
    "class CustomModel(torch.nn.Module):\n",
    "    def __init__(self, input_dim, output_dim):\n",
    "        super(CustomModel, self).__init__()\n",
    "        self.conv1 = torch.nn.Linear(input_dim, 28)\n",
    "        self.conv2 = torch.nn.Linear(28, output_dim)\n",
    "\n",
    "    def forward(self, x):\n",
    "        x = torch.relu(self.conv1(x))\n",
    "        outputs = torch.sigmoid(self.conv2(x))\n",
    "        return outputs\n",
    "    \n",
    "gd_model = CustomModel(784, 10)\n",
    "sb_model = copy.deepcopy(gd_model)\n",
    "\n",
    "if torch.cuda.is_available():\n",
    "    gd_model = gd_model.cuda()\n",
    "    sb_model = sb_model.cuda()"
   ]
  },
  {
   "cell_type": "code",
   "execution_count": 4,
   "metadata": {
    "colab": {},
    "colab_type": "code",
    "id": "ySi2glFRY7iM"
   },
   "outputs": [],
   "source": [
    "loss = torch.nn.CrossEntropyLoss().cuda()\n",
    "regularizer = utils.regularizer"
   ]
  },
  {
   "cell_type": "code",
   "execution_count": 5,
   "metadata": {
    "colab": {},
    "colab_type": "code",
    "id": "ING4gd6_Y7iS"
   },
   "outputs": [],
   "source": [
    "batch_size = 2048\n",
    "learning_rate = 0.001\n",
    "n_epochs = 100"
   ]
  },
  {
   "cell_type": "code",
   "execution_count": 6,
   "metadata": {
    "colab": {
     "base_uri": "https://localhost:8080/",
     "height": 187
    },
    "colab_type": "code",
    "id": "1CRVPi9GY7iX",
    "outputId": "d989ea7b-3612-4831-f169-a9892f78d2cb",
    "scrolled": true
   },
   "outputs": [
    {
     "name": "stderr",
     "output_type": "stream",
     "text": [
      "epoch: 0\n",
      "epoch: 20\n",
      "epoch: 40\n",
      "epoch: 60\n",
      "epoch: 80\n",
      "epoch: 0\n",
      "epoch: 20\n",
      "epoch: 40\n",
      "epoch: 60\n",
      "epoch: 80\n"
     ]
    }
   ],
   "source": [
    "gd_total_loss = utils.gradient_descent(train_dataset, batch_size, gd_model, loss, regularizer, learning_rate, n_epochs)\n",
    "sb_total_loss = spider_boost(train_dataset, batch_size, sb_model, loss, regularizer, learning_rate, n_epochs)"
   ]
  },
  {
   "cell_type": "code",
   "execution_count": 9,
   "metadata": {},
   "outputs": [
    {
     "data": {
      "image/png": "[encoded data removed]",
      "text/plain": [
       "<Figure size 432x288 with 1 Axes>"
      ]
     },
     "metadata": {
      "needs_background": "light"
     },
     "output_type": "display_data"
    }
   ],
   "source": [
    "plt.scatter(np.arange(n_epochs), gd_total_loss)\n",
    "plt.scatter(np.arange(n_epochs), sb_total_loss, color='orange')\n",
    "plt.show()"
   ]
  }
 ],
 "metadata": {
  "accelerator": "GPU",
  "colab": {
   "include_colab_link": true,
   "name": "spider_boost.ipynb",
   "provenance": []
  },
  "kernelspec": {
   "display_name": "Python 3",
   "language": "python",
   "name": "python3"
  },
  "language_info": {
   "codemirror_mode": {
    "name": "ipython",
    "version": 3
   },
   "file_extension": ".py",
   "mimetype": "text/x-python",
   "name": "python",
   "nbconvert_exporter": "python",
   "pygments_lexer": "ipython3",
   "version": "3.7.7"
  }
 },
 "nbformat": 4,
 "nbformat_minor": 1
}
