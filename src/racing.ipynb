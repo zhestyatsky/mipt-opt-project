{
    "cells": [{
        "cell_type":
        "code",
        "execution_count":
        null,
        "metadata": {
            "colab": {
                "base_uri": "https://localhost:8080/",
                "height": 138
            },
            "colab_type": "code",
            "id": "h0fUe8pKcBST",
            "outputId": "4849c52d-3cbc-4756-dbaa-748e403761cb",
            "pycharm": {
                "name": "#%%\n"
            }
        },
        "outputs": [],
        "source": [
            "#!git clone https://github.com/zhestyatsky/mipt-opt-project.git\n",
            "#import sys\n",
            "#sys.path.append('/content/mipt-opt-project/src')"
        ]
    }, {
        "cell_type":
        "code",
        "execution_count":
        null,
        "metadata": {
            "colab": {},
            "colab_type": "code",
            "id": "0OAWkK4JY7hg"
        },
        "outputs": [],
        "source": [
            "import copy\n", "import matplotlib.pyplot as plt\n", "\n",
            "import torch\n", "import torchvision.datasets as dsets\n",
            "import torchvision.transforms as transforms\n", "\n",
            "import utils\n", "from spider_boost import spider_boost\n",
            "from natasha import natasha_15, natasha_2"
        ]
    }, {
        "cell_type":
        "code",
        "execution_count":
        null,
        "metadata": {
            "colab": {
                "base_uri":
                "https://localhost:8080/",
                "height":
                355,
                "referenced_widgets": [
                    "ee0d4c918c4a414095ddb3df6214d75d",
                    "ead90a0045784c23847b5af9885b9ac9",
                    "878f8759fd834d0f801ef63c3f50ae0e",
                    "7c357cedefa844c787bd6552bf0572a2",
                    "2bc41536c6c741b3b383059681988e90",
                    "c00a6ecd68c94736b02492b293abbeaa",
                    "9176c73a79c44d1d8bcdc59f89bec425",
                    "470df6709bbb4e9ba494d3713cd6d467",
                    "26f6c2e647ef46afa0565a0f6f74af6b",
                    "a137df8c9db14297874d09092d07df40",
                    "4174e13c4f904bbaac4a2fafb9d7a365",
                    "82e5e104133a4f27a689b0417de8d9f4",
                    "e5558ceda3bf4e5dbab62d6c50ece704",
                    "9068cfada0c94071ad90eea4a48b73ea",
                    "0446a6bb9bf344988bf79eecb27e6ff2",
                    "04d7baf364da4ce5892001ce202f7225",
                    "5593053f63784d12bef52a106c84210a",
                    "75d5000db35b484385c9a3bd238f61f0",
                    "61bc09939e2f40c88b1dfcbbd2d7286e",
                    "51820d8d62894b6294b7a986b2d2fd9c",
                    "e127c317d5254e7db5a07f74b346ea5b",
                    "f721e07b9f2e4e5e9993d823f015ba05",
                    "f41e1f7f064b49728c182a5593526541",
                    "859f3bfee384406aa20bb8828852f1b2",
                    "fdd111545fd047db9bf08c66d72ca02d",
                    "a151e3a88a93444e9f54ddb126e3a943",
                    "46a33698f5f5493ea4a0bb96922037ca",
                    "392ce24713c044c39d89e0c73ff76f7e",
                    "452334ca635549f18bad22ce4aa1dc06",
                    "38720ffd1e934c75adf71b393aade374",
                    "ad959188a4d5479ea8a0eee1356204ad",
                    "1fa15759b3cf4bd0b7ff60b55973a30b"
                ]
            },
            "colab_type": "code",
            "id": "HsfTiE5TY7h2",
            "outputId": "52b60842-1ca2-47f3-e6ce-eacaf8bdcf45"
        },
        "outputs": [],
        "source": [
            "train_dataset = dsets.MNIST(root='~/.pytorch/MNIST_data/', train=True, transform=transforms.ToTensor(), download=True)\n",
            "train_dataset = utils.DatasetWrapper(train_dataset)"
        ]
    }, {
        "cell_type":
        "code",
        "execution_count":
        null,
        "metadata": {
            "colab": {},
            "colab_type": "code",
            "id": "Af4gw5CJY7iE"
        },
        "outputs": [],
        "source": [
            "class CustomModel(torch.nn.Module):\n",
            "    def __init__(self, input_dim, output_dim):\n",
            "        super(CustomModel, self).__init__()\n",
            "        self.conv1 = torch.nn.Linear(input_dim, 28)\n",
            "        self.conv2 = torch.nn.Linear(28, output_dim)\n", "\n",
            "    def forward(self, x):\n",
            "        x = torch.relu(self.conv1(x))\n",
            "        outputs = torch.sigmoid(self.conv2(x))\n",
            "        return outputs"
        ]
    }, {
        "cell_type":
        "code",
        "execution_count":
        null,
        "metadata": {
            "colab": {},
            "colab_type": "code",
            "id": "ySi2glFRY7iM"
        },
        "outputs": [],
        "source": [
            "loss = torch.nn.CrossEntropyLoss().cuda()\n",
            "regularizer = utils.regularizer"
        ]
    }, {
        "cell_type":
        "code",
        "execution_count":
        null,
        "metadata": {
            "colab": {},
            "colab_type": "code",
            "id": "ING4gd6_Y7iS"
        },
        "outputs": [],
        "source": [
            "batch_size = 2048\n", "learning_rate = 0.01\n",
            "learning_rate_adagrad = 1\n", "learning_rate_decay = 0.001\n",
            "n_epochs = 10"
        ]
    }, {
        "cell_type":
        "code",
        "execution_count":
        null,
        "metadata": {
            "colab": {},
            "colab_type": "code",
            "id": "UIjQYpcj5q_y"
        },
        "outputs": [],
        "source": [
            "gd_model = CustomModel(784, 10)\n",
            "gd_mom_model = copy.deepcopy(gd_model)\n",
            "adagrad_model = copy.deepcopy(gd_model)\n",
            "adam_model = copy.deepcopy(gd_model)\n", "\n",
            "gd_opt = torch.optim.SGD(gd_model.parameters(), lr=learning_rate)\n",
            "gd_mom_opt = torch.optim.SGD(gd_mom_model.parameters(), lr=learning_rate, momentum=0.9)\n",
            "adagrad_opt = torch.optim.Adagrad(adagrad_model.parameters(), lr=learning_rate_adagrad, lr_decay=learning_rate_decay)\n",
            "adam_opt = torch.optim.Adam(adam_model.parameters(), lr=learning_rate)\n",
            "\n", "sb_model = copy.deepcopy(gd_model)\n", "\n",
            "n15_model = copy.deepcopy(gd_model)\n",
            "n2_model = copy.deepcopy(gd_model)\n", "\n",
            "if torch.cuda.is_available():\n",
            "    gd_model = gd_model.cuda()\n",
            "    gd_mom_model = gd_mom_model.cuda()\n",
            "    adagrad_model = adagrad_model.cuda()\n",
            "    adam_model = adam_model.cuda()\n", "    \n",
            "    sb_model = sb_model.cuda()\n", "    \n",
            "    n15_model = n15_model.cuda()\n",
            "    n2_model = n2_model.cuda()"
        ]
    }, {
        "cell_type":
        "code",
        "execution_count":
        null,
        "metadata": {
            "colab": {
                "base_uri": "https://localhost:8080/",
                "height": 69
            },
            "colab_type": "code",
            "id": "1CRVPi9GY7iX",
            "outputId": "959cfec5-c59a-4ee2-8401-8fee7b0576a6",
            "scrolled": false
        },
        "outputs": [],
        "source": [
            "%%time\n",
            "gd_total_loss = utils.opt_algorithm(gd_opt, train_dataset, batch_size, gd_model, loss, regularizer, n_epochs)"
        ]
    }, {
        "cell_type":
        "code",
        "execution_count":
        null,
        "metadata": {},
        "outputs": [],
        "source": [
            "%%time\n",
            "gd_mom_total_loss = utils.opt_algorithm(gd_mom_opt, train_dataset, batch_size, gd_mom_model, loss, regularizer, n_epochs)"
        ]
    }, {
        "cell_type":
        "code",
        "execution_count":
        null,
        "metadata": {},
        "outputs": [],
        "source": [
            "%%time\n",
            "adagrad_total_loss = utils.opt_algorithm(adagrad_opt, train_dataset, batch_size, adagrad_model, loss, regularizer, n_epochs)"
        ]
    }, {
        "cell_type":
        "code",
        "execution_count":
        null,
        "metadata": {},
        "outputs": [],
        "source": [
            "%%time\n",
            "adam_total_loss = utils.opt_algorithm(adam_opt, train_dataset, batch_size, adam_model, loss, regularizer, n_epochs)"
        ]
    }, {
        "cell_type":
        "code",
        "execution_count":
        null,
        "metadata": {
            "colab": {
                "base_uri": "https://localhost:8080/",
                "height": 69
            },
            "colab_type": "code",
            "id": "zAXbry7K8Gha",
            "outputId": "cc93f5e7-25f2-44fc-90ef-7f9379600884"
        },
        "outputs": [],
        "source": [
            "%%time\n",
            "sb_total_loss = spider_boost(train_dataset, batch_size, sb_model, loss, regularizer, learning_rate, n_epochs)"
        ]
    }, {
        "cell_type":
        "code",
        "execution_count":
        null,
        "metadata": {
            "colab": {},
            "colab_type": "code",
            "id": "jqxvDpFh8Krd"
        },
        "outputs": [],
        "source": [
            "%%time\n",
            "n_15_total_loss = natasha_15(train_dataset, batch_size, n15_model, loss, regularizer, learning_rate, n_epochs, sigma=10)"
        ]
    }, {
        "cell_type":
        "code",
        "execution_count":
        null,
        "metadata": {
            "colab": {},
            "colab_type": "code",
            "id": "jfdGZfBU8Oa1"
        },
        "outputs": [],
        "source": [
            "%%time\n",
            "n_2_total_loss = natasha_2(train_dataset, batch_size, n2_model, loss, regularizer, learning_rate, n_epochs)"
        ]
    }, {
        "cell_type":
        "code",
        "execution_count":
        null,
        "metadata": {
            "colab": {},
            "colab_type": "code",
            "id": "8iDBva7Jb80c"
        },
        "outputs": [],
        "source": [
            "plt.plot(adagrad_total_loss, 'o', label='Adagrad')\n",
            "plt.plot(adam_total_loss, 'o', label='Adam')\n",
            "plt.plot(gd_total_loss, 'o', label='SGD')\n",
            "plt.plot(gd_mom_total_loss, 'o', label='SGD momentum')\n",
            "plt.plot(n_15_total_loss, 'o', label='Natasha 1.5')\n",
            "plt.plot(n_2_total_loss, 'o', label='Natasha 2')\n",
            "plt.plot(sb_total_loss, 'o', label='Spider Boost')\n",
            "plt.legend()\n", "plt.semilogy()\n", "plt.show()"
        ]
    }],
    "metadata": {
        "accelerator": "GPU",
        "colab": {
            "collapsed_sections": [],
            "include_colab_link": true,
            "name": "natasha.ipynb",
            "provenance": []
        },
        "kernelspec": {
            "display_name": "Python 3",
            "language": "python",
            "name": "python3"
        },
        "language_info": {
            "codemirror_mode": {
                "name": "ipython",
                "version": 3
            },
            "file_extension": ".py",
            "mimetype": "text/x-python",
            "name": "python",
            "nbconvert_exporter": "python",
            "pygments_lexer": "ipython3",
            "version": "3.7.7"
        },
        "widgets": {
            "application/vnd.jupyter.widget-state+json": {
                "0446a6bb9bf344988bf79eecb27e6ff2": {
                    "model_module": "@jupyter-widgets/controls",
                    "model_name": "DescriptionStyleModel",
                    "state": {
                        "_model_module": "@jupyter-widgets/controls",
                        "_model_module_version": "1.5.0",
                        "_model_name": "DescriptionStyleModel",
                        "_view_count": null,
                        "_view_module": "@jupyter-widgets/base",
                        "_view_module_version": "1.2.0",
                        "_view_name": "StyleView",
                        "description_width": ""
                    }
                },
                "04d7baf364da4ce5892001ce202f7225": {
                    "model_module": "@jupyter-widgets/base",
                    "model_name": "LayoutModel",
                    "state": {
                        "_model_module": "@jupyter-widgets/base",
                        "_model_module_version": "1.2.0",
                        "_model_name": "LayoutModel",
                        "_view_count": null,
                        "_view_module": "@jupyter-widgets/base",
                        "_view_module_version": "1.2.0",
                        "_view_name": "LayoutView",
                        "align_content": null,
                        "align_items": null,
                        "align_self": null,
                        "border": null,
                        "bottom": null,
                        "display": null,
                        "flex": null,
                        "flex_flow": null,
                        "grid_area": null,
                        "grid_auto_columns": null,
                        "grid_auto_flow": null,
                        "grid_auto_rows": null,
                        "grid_column": null,
                        "grid_gap": null,
                        "grid_row": null,
                        "grid_template_areas": null,
                        "grid_template_columns": null,
                        "grid_template_rows": null,
                        "height": null,
                        "justify_content": null,
                        "justify_items": null,
                        "left": null,
                        "margin": null,
                        "max_height": null,
                        "max_width": null,
                        "min_height": null,
                        "min_width": null,
                        "object_fit": null,
                        "object_position": null,
                        "order": null,
                        "overflow": null,
                        "overflow_x": null,
                        "overflow_y": null,
                        "padding": null,
                        "right": null,
                        "top": null,
                        "visibility": null,
                        "width": null
                    }
                },
                "1fa15759b3cf4bd0b7ff60b55973a30b": {
                    "model_module": "@jupyter-widgets/base",
                    "model_name": "LayoutModel",
                    "state": {
                        "_model_module": "@jupyter-widgets/base",
                        "_model_module_version": "1.2.0",
                        "_model_name": "LayoutModel",
                        "_view_count": null,
                        "_view_module": "@jupyter-widgets/base",
                        "_view_module_version": "1.2.0",
                        "_view_name": "LayoutView",
                        "align_content": null,
                        "align_items": null,
                        "align_self": null,
                        "border": null,
                        "bottom": null,
                        "display": null,
                        "flex": null,
                        "flex_flow": null,
                        "grid_area": null,
                        "grid_auto_columns": null,
                        "grid_auto_flow": null,
                        "grid_auto_rows": null,
                        "grid_column": null,
                        "grid_gap": null,
                        "grid_row": null,
                        "grid_template_areas": null,
                        "grid_template_columns": null,
                        "grid_template_rows": null,
                        "height": null,
                        "justify_content": null,
                        "justify_items": null,
                        "left": null,
                        "margin": null,
                        "max_height": null,
                        "max_width": null,
                        "min_height": null,
                        "min_width": null,
                        "object_fit": null,
                        "object_position": null,
                        "order": null,
                        "overflow": null,
                        "overflow_x": null,
                        "overflow_y": null,
                        "padding": null,
                        "right": null,
                        "top": null,
                        "visibility": null,
                        "width": null
                    }
                },
                "26f6c2e647ef46afa0565a0f6f74af6b": {
                    "model_module": "@jupyter-widgets/controls",
                    "model_name": "HBoxModel",
                    "state": {
                        "_dom_classes": [],
                        "_model_module":
                        "@jupyter-widgets/controls",
                        "_model_module_version":
                        "1.5.0",
                        "_model_name":
                        "HBoxModel",
                        "_view_count":
                        null,
                        "_view_module":
                        "@jupyter-widgets/controls",
                        "_view_module_version":
                        "1.5.0",
                        "_view_name":
                        "HBoxView",
                        "box_style":
                        "",
                        "children": [
                            "IPY_MODEL_4174e13c4f904bbaac4a2fafb9d7a365",
                            "IPY_MODEL_82e5e104133a4f27a689b0417de8d9f4"
                        ],
                        "layout":
                        "IPY_MODEL_a137df8c9db14297874d09092d07df40"
                    }
                },
                "2bc41536c6c741b3b383059681988e90": {
                    "model_module": "@jupyter-widgets/controls",
                    "model_name": "ProgressStyleModel",
                    "state": {
                        "_model_module": "@jupyter-widgets/controls",
                        "_model_module_version": "1.5.0",
                        "_model_name": "ProgressStyleModel",
                        "_view_count": null,
                        "_view_module": "@jupyter-widgets/base",
                        "_view_module_version": "1.2.0",
                        "_view_name": "StyleView",
                        "bar_color": null,
                        "description_width": "initial"
                    }
                },
                "38720ffd1e934c75adf71b393aade374": {
                    "model_module": "@jupyter-widgets/base",
                    "model_name": "LayoutModel",
                    "state": {
                        "_model_module": "@jupyter-widgets/base",
                        "_model_module_version": "1.2.0",
                        "_model_name": "LayoutModel",
                        "_view_count": null,
                        "_view_module": "@jupyter-widgets/base",
                        "_view_module_version": "1.2.0",
                        "_view_name": "LayoutView",
                        "align_content": null,
                        "align_items": null,
                        "align_self": null,
                        "border": null,
                        "bottom": null,
                        "display": null,
                        "flex": null,
                        "flex_flow": null,
                        "grid_area": null,
                        "grid_auto_columns": null,
                        "grid_auto_flow": null,
                        "grid_auto_rows": null,
                        "grid_column": null,
                        "grid_gap": null,
                        "grid_row": null,
                        "grid_template_areas": null,
                        "grid_template_columns": null,
                        "grid_template_rows": null,
                        "height": null,
                        "justify_content": null,
                        "justify_items": null,
                        "left": null,
                        "margin": null,
                        "max_height": null,
                        "max_width": null,
                        "min_height": null,
                        "min_width": null,
                        "object_fit": null,
                        "object_position": null,
                        "order": null,
                        "overflow": null,
                        "overflow_x": null,
                        "overflow_y": null,
                        "padding": null,
                        "right": null,
                        "top": null,
                        "visibility": null,
                        "width": null
                    }
                },
                "392ce24713c044c39d89e0c73ff76f7e": {
                    "model_module": "@jupyter-widgets/controls",
                    "model_name": "HTMLModel",
                    "state": {
                        "_dom_classes": [],
                        "_model_module": "@jupyter-widgets/controls",
                        "_model_module_version": "1.5.0",
                        "_model_name": "HTMLModel",
                        "_view_count": null,
                        "_view_module": "@jupyter-widgets/controls",
                        "_view_module_version": "1.5.0",
                        "_view_name": "HTMLView",
                        "description": "",
                        "description_tooltip": null,
                        "layout": "IPY_MODEL_1fa15759b3cf4bd0b7ff60b55973a30b",
                        "placeholder": "​",
                        "style": "IPY_MODEL_ad959188a4d5479ea8a0eee1356204ad",
                        "value": " 0/4542 [00:00&lt;?, ?it/s]"
                    }
                },
                "4174e13c4f904bbaac4a2fafb9d7a365": {
                    "model_module": "@jupyter-widgets/controls",
                    "model_name": "FloatProgressModel",
                    "state": {
                        "_dom_classes": [],
                        "_model_module": "@jupyter-widgets/controls",
                        "_model_module_version": "1.5.0",
                        "_model_name": "FloatProgressModel",
                        "_view_count": null,
                        "_view_module": "@jupyter-widgets/controls",
                        "_view_module_version": "1.5.0",
                        "_view_name": "ProgressView",
                        "bar_style": "info",
                        "description": "  0%",
                        "description_tooltip": null,
                        "layout": "IPY_MODEL_9068cfada0c94071ad90eea4a48b73ea",
                        "max": 1,
                        "min": 0,
                        "orientation": "horizontal",
                        "style": "IPY_MODEL_e5558ceda3bf4e5dbab62d6c50ece704",
                        "value": 0
                    }
                },
                "452334ca635549f18bad22ce4aa1dc06": {
                    "model_module": "@jupyter-widgets/controls",
                    "model_name": "ProgressStyleModel",
                    "state": {
                        "_model_module": "@jupyter-widgets/controls",
                        "_model_module_version": "1.5.0",
                        "_model_name": "ProgressStyleModel",
                        "_view_count": null,
                        "_view_module": "@jupyter-widgets/base",
                        "_view_module_version": "1.2.0",
                        "_view_name": "StyleView",
                        "bar_color": null,
                        "description_width": "initial"
                    }
                },
                "46a33698f5f5493ea4a0bb96922037ca": {
                    "model_module": "@jupyter-widgets/controls",
                    "model_name": "FloatProgressModel",
                    "state": {
                        "_dom_classes": [],
                        "_model_module": "@jupyter-widgets/controls",
                        "_model_module_version": "1.5.0",
                        "_model_name": "FloatProgressModel",
                        "_view_count": null,
                        "_view_module": "@jupyter-widgets/controls",
                        "_view_module_version": "1.5.0",
                        "_view_name": "ProgressView",
                        "bar_style": "info",
                        "description": "  0%",
                        "description_tooltip": null,
                        "layout": "IPY_MODEL_38720ffd1e934c75adf71b393aade374",
                        "max": 1,
                        "min": 0,
                        "orientation": "horizontal",
                        "style": "IPY_MODEL_452334ca635549f18bad22ce4aa1dc06",
                        "value": 0
                    }
                },
                "470df6709bbb4e9ba494d3713cd6d467": {
                    "model_module": "@jupyter-widgets/base",
                    "model_name": "LayoutModel",
                    "state": {
                        "_model_module": "@jupyter-widgets/base",
                        "_model_module_version": "1.2.0",
                        "_model_name": "LayoutModel",
                        "_view_count": null,
                        "_view_module": "@jupyter-widgets/base",
                        "_view_module_version": "1.2.0",
                        "_view_name": "LayoutView",
                        "align_content": null,
                        "align_items": null,
                        "align_self": null,
                        "border": null,
                        "bottom": null,
                        "display": null,
                        "flex": null,
                        "flex_flow": null,
                        "grid_area": null,
                        "grid_auto_columns": null,
                        "grid_auto_flow": null,
                        "grid_auto_rows": null,
                        "grid_column": null,
                        "grid_gap": null,
                        "grid_row": null,
                        "grid_template_areas": null,
                        "grid_template_columns": null,
                        "grid_template_rows": null,
                        "height": null,
                        "justify_content": null,
                        "justify_items": null,
                        "left": null,
                        "margin": null,
                        "max_height": null,
                        "max_width": null,
                        "min_height": null,
                        "min_width": null,
                        "object_fit": null,
                        "object_position": null,
                        "order": null,
                        "overflow": null,
                        "overflow_x": null,
                        "overflow_y": null,
                        "padding": null,
                        "right": null,
                        "top": null,
                        "visibility": null,
                        "width": null
                    }
                },
                "51820d8d62894b6294b7a986b2d2fd9c": {
                    "model_module": "@jupyter-widgets/controls",
                    "model_name": "HTMLModel",
                    "state": {
                        "_dom_classes": [],
                        "_model_module": "@jupyter-widgets/controls",
                        "_model_module_version": "1.5.0",
                        "_model_name": "HTMLModel",
                        "_view_count": null,
                        "_view_module": "@jupyter-widgets/controls",
                        "_view_module_version": "1.5.0",
                        "_view_name": "HTMLView",
                        "description": "",
                        "description_tooltip": null,
                        "layout": "IPY_MODEL_859f3bfee384406aa20bb8828852f1b2",
                        "placeholder": "​",
                        "style": "IPY_MODEL_f41e1f7f064b49728c182a5593526541",
                        "value": " 1654784/? [00:18&lt;00:00, 538895.40it/s]"
                    }
                },
                "5593053f63784d12bef52a106c84210a": {
                    "model_module": "@jupyter-widgets/controls",
                    "model_name": "HBoxModel",
                    "state": {
                        "_dom_classes": [],
                        "_model_module":
                        "@jupyter-widgets/controls",
                        "_model_module_version":
                        "1.5.0",
                        "_model_name":
                        "HBoxModel",
                        "_view_count":
                        null,
                        "_view_module":
                        "@jupyter-widgets/controls",
                        "_view_module_version":
                        "1.5.0",
                        "_view_name":
                        "HBoxView",
                        "box_style":
                        "",
                        "children": [
                            "IPY_MODEL_61bc09939e2f40c88b1dfcbbd2d7286e",
                            "IPY_MODEL_51820d8d62894b6294b7a986b2d2fd9c"
                        ],
                        "layout":
                        "IPY_MODEL_75d5000db35b484385c9a3bd238f61f0"
                    }
                },
                "61bc09939e2f40c88b1dfcbbd2d7286e": {
                    "model_module": "@jupyter-widgets/controls",
                    "model_name": "FloatProgressModel",
                    "state": {
                        "_dom_classes": [],
                        "_model_module": "@jupyter-widgets/controls",
                        "_model_module_version": "1.5.0",
                        "_model_name": "FloatProgressModel",
                        "_view_count": null,
                        "_view_module": "@jupyter-widgets/controls",
                        "_view_module_version": "1.5.0",
                        "_view_name": "ProgressView",
                        "bar_style": "info",
                        "description": "",
                        "description_tooltip": null,
                        "layout": "IPY_MODEL_f721e07b9f2e4e5e9993d823f015ba05",
                        "max": 1,
                        "min": 0,
                        "orientation": "horizontal",
                        "style": "IPY_MODEL_e127c317d5254e7db5a07f74b346ea5b",
                        "value": 1
                    }
                },
                "75d5000db35b484385c9a3bd238f61f0": {
                    "model_module": "@jupyter-widgets/base",
                    "model_name": "LayoutModel",
                    "state": {
                        "_model_module": "@jupyter-widgets/base",
                        "_model_module_version": "1.2.0",
                        "_model_name": "LayoutModel",
                        "_view_count": null,
                        "_view_module": "@jupyter-widgets/base",
                        "_view_module_version": "1.2.0",
                        "_view_name": "LayoutView",
                        "align_content": null,
                        "align_items": null,
                        "align_self": null,
                        "border": null,
                        "bottom": null,
                        "display": null,
                        "flex": null,
                        "flex_flow": null,
                        "grid_area": null,
                        "grid_auto_columns": null,
                        "grid_auto_flow": null,
                        "grid_auto_rows": null,
                        "grid_column": null,
                        "grid_gap": null,
                        "grid_row": null,
                        "grid_template_areas": null,
                        "grid_template_columns": null,
                        "grid_template_rows": null,
                        "height": null,
                        "justify_content": null,
                        "justify_items": null,
                        "left": null,
                        "margin": null,
                        "max_height": null,
                        "max_width": null,
                        "min_height": null,
                        "min_width": null,
                        "object_fit": null,
                        "object_position": null,
                        "order": null,
                        "overflow": null,
                        "overflow_x": null,
                        "overflow_y": null,
                        "padding": null,
                        "right": null,
                        "top": null,
                        "visibility": null,
                        "width": null
                    }
                },
                "7c357cedefa844c787bd6552bf0572a2": {
                    "model_module": "@jupyter-widgets/controls",
                    "model_name": "HTMLModel",
                    "state": {
                        "_dom_classes": [],
                        "_model_module": "@jupyter-widgets/controls",
                        "_model_module_version": "1.5.0",
                        "_model_name": "HTMLModel",
                        "_view_count": null,
                        "_view_module": "@jupyter-widgets/controls",
                        "_view_module_version": "1.5.0",
                        "_view_name": "HTMLView",
                        "description": "",
                        "description_tooltip": null,
                        "layout": "IPY_MODEL_470df6709bbb4e9ba494d3713cd6d467",
                        "placeholder": "​",
                        "style": "IPY_MODEL_9176c73a79c44d1d8bcdc59f89bec425",
                        "value": " 9920512/? [00:19&lt;00:00, 1071541.38it/s]"
                    }
                },
                "82e5e104133a4f27a689b0417de8d9f4": {
                    "model_module": "@jupyter-widgets/controls",
                    "model_name": "HTMLModel",
                    "state": {
                        "_dom_classes": [],
                        "_model_module": "@jupyter-widgets/controls",
                        "_model_module_version": "1.5.0",
                        "_model_name": "HTMLModel",
                        "_view_count": null,
                        "_view_module": "@jupyter-widgets/controls",
                        "_view_module_version": "1.5.0",
                        "_view_name": "HTMLView",
                        "description": "",
                        "description_tooltip": null,
                        "layout": "IPY_MODEL_04d7baf364da4ce5892001ce202f7225",
                        "placeholder": "​",
                        "style": "IPY_MODEL_0446a6bb9bf344988bf79eecb27e6ff2",
                        "value": " 0/28881 [00:00&lt;?, ?it/s]"
                    }
                },
                "859f3bfee384406aa20bb8828852f1b2": {
                    "model_module": "@jupyter-widgets/base",
                    "model_name": "LayoutModel",
                    "state": {
                        "_model_module": "@jupyter-widgets/base",
                        "_model_module_version": "1.2.0",
                        "_model_name": "LayoutModel",
                        "_view_count": null,
                        "_view_module": "@jupyter-widgets/base",
                        "_view_module_version": "1.2.0",
                        "_view_name": "LayoutView",
                        "align_content": null,
                        "align_items": null,
                        "align_self": null,
                        "border": null,
                        "bottom": null,
                        "display": null,
                        "flex": null,
                        "flex_flow": null,
                        "grid_area": null,
                        "grid_auto_columns": null,
                        "grid_auto_flow": null,
                        "grid_auto_rows": null,
                        "grid_column": null,
                        "grid_gap": null,
                        "grid_row": null,
                        "grid_template_areas": null,
                        "grid_template_columns": null,
                        "grid_template_rows": null,
                        "height": null,
                        "justify_content": null,
                        "justify_items": null,
                        "left": null,
                        "margin": null,
                        "max_height": null,
                        "max_width": null,
                        "min_height": null,
                        "min_width": null,
                        "object_fit": null,
                        "object_position": null,
                        "order": null,
                        "overflow": null,
                        "overflow_x": null,
                        "overflow_y": null,
                        "padding": null,
                        "right": null,
                        "top": null,
                        "visibility": null,
                        "width": null
                    }
                },
                "878f8759fd834d0f801ef63c3f50ae0e": {
                    "model_module": "@jupyter-widgets/controls",
                    "model_name": "FloatProgressModel",
                    "state": {
                        "_dom_classes": [],
                        "_model_module": "@jupyter-widgets/controls",
                        "_model_module_version": "1.5.0",
                        "_model_name": "FloatProgressModel",
                        "_view_count": null,
                        "_view_module": "@jupyter-widgets/controls",
                        "_view_module_version": "1.5.0",
                        "_view_name": "ProgressView",
                        "bar_style": "info",
                        "description": "",
                        "description_tooltip": null,
                        "layout": "IPY_MODEL_c00a6ecd68c94736b02492b293abbeaa",
                        "max": 1,
                        "min": 0,
                        "orientation": "horizontal",
                        "style": "IPY_MODEL_2bc41536c6c741b3b383059681988e90",
                        "value": 1
                    }
                },
                "9068cfada0c94071ad90eea4a48b73ea": {
                    "model_module": "@jupyter-widgets/base",
                    "model_name": "LayoutModel",
                    "state": {
                        "_model_module": "@jupyter-widgets/base",
                        "_model_module_version": "1.2.0",
                        "_model_name": "LayoutModel",
                        "_view_count": null,
                        "_view_module": "@jupyter-widgets/base",
                        "_view_module_version": "1.2.0",
                        "_view_name": "LayoutView",
                        "align_content": null,
                        "align_items": null,
                        "align_self": null,
                        "border": null,
                        "bottom": null,
                        "display": null,
                        "flex": null,
                        "flex_flow": null,
                        "grid_area": null,
                        "grid_auto_columns": null,
                        "grid_auto_flow": null,
                        "grid_auto_rows": null,
                        "grid_column": null,
                        "grid_gap": null,
                        "grid_row": null,
                        "grid_template_areas": null,
                        "grid_template_columns": null,
                        "grid_template_rows": null,
                        "height": null,
                        "justify_content": null,
                        "justify_items": null,
                        "left": null,
                        "margin": null,
                        "max_height": null,
                        "max_width": null,
                        "min_height": null,
                        "min_width": null,
                        "object_fit": null,
                        "object_position": null,
                        "order": null,
                        "overflow": null,
                        "overflow_x": null,
                        "overflow_y": null,
                        "padding": null,
                        "right": null,
                        "top": null,
                        "visibility": null,
                        "width": null
                    }
                },
                "9176c73a79c44d1d8bcdc59f89bec425": {
                    "model_module": "@jupyter-widgets/controls",
                    "model_name": "DescriptionStyleModel",
                    "state": {
                        "_model_module": "@jupyter-widgets/controls",
                        "_model_module_version": "1.5.0",
                        "_model_name": "DescriptionStyleModel",
                        "_view_count": null,
                        "_view_module": "@jupyter-widgets/base",
                        "_view_module_version": "1.2.0",
                        "_view_name": "StyleView",
                        "description_width": ""
                    }
                },
                "a137df8c9db14297874d09092d07df40": {
                    "model_module": "@jupyter-widgets/base",
                    "model_name": "LayoutModel",
                    "state": {
                        "_model_module": "@jupyter-widgets/base",
                        "_model_module_version": "1.2.0",
                        "_model_name": "LayoutModel",
                        "_view_count": null,
                        "_view_module": "@jupyter-widgets/base",
                        "_view_module_version": "1.2.0",
                        "_view_name": "LayoutView",
                        "align_content": null,
                        "align_items": null,
                        "align_self": null,
                        "border": null,
                        "bottom": null,
                        "display": null,
                        "flex": null,
                        "flex_flow": null,
                        "grid_area": null,
                        "grid_auto_columns": null,
                        "grid_auto_flow": null,
                        "grid_auto_rows": null,
                        "grid_column": null,
                        "grid_gap": null,
                        "grid_row": null,
                        "grid_template_areas": null,
                        "grid_template_columns": null,
                        "grid_template_rows": null,
                        "height": null,
                        "justify_content": null,
                        "justify_items": null,
                        "left": null,
                        "margin": null,
                        "max_height": null,
                        "max_width": null,
                        "min_height": null,
                        "min_width": null,
                        "object_fit": null,
                        "object_position": null,
                        "order": null,
                        "overflow": null,
                        "overflow_x": null,
                        "overflow_y": null,
                        "padding": null,
                        "right": null,
                        "top": null,
                        "visibility": null,
                        "width": null
                    }
                },
                "a151e3a88a93444e9f54ddb126e3a943": {
                    "model_module": "@jupyter-widgets/base",
                    "model_name": "LayoutModel",
                    "state": {
                        "_model_module": "@jupyter-widgets/base",
                        "_model_module_version": "1.2.0",
                        "_model_name": "LayoutModel",
                        "_view_count": null,
                        "_view_module": "@jupyter-widgets/base",
                        "_view_module_version": "1.2.0",
                        "_view_name": "LayoutView",
                        "align_content": null,
                        "align_items": null,
                        "align_self": null,
                        "border": null,
                        "bottom": null,
                        "display": null,
                        "flex": null,
                        "flex_flow": null,
                        "grid_area": null,
                        "grid_auto_columns": null,
                        "grid_auto_flow": null,
                        "grid_auto_rows": null,
                        "grid_column": null,
                        "grid_gap": null,
                        "grid_row": null,
                        "grid_template_areas": null,
                        "grid_template_columns": null,
                        "grid_template_rows": null,
                        "height": null,
                        "justify_content": null,
                        "justify_items": null,
                        "left": null,
                        "margin": null,
                        "max_height": null,
                        "max_width": null,
                        "min_height": null,
                        "min_width": null,
                        "object_fit": null,
                        "object_position": null,
                        "order": null,
                        "overflow": null,
                        "overflow_x": null,
                        "overflow_y": null,
                        "padding": null,
                        "right": null,
                        "top": null,
                        "visibility": null,
                        "width": null
                    }
                },
                "ad959188a4d5479ea8a0eee1356204ad": {
                    "model_module": "@jupyter-widgets/controls",
                    "model_name": "DescriptionStyleModel",
                    "state": {
                        "_model_module": "@jupyter-widgets/controls",
                        "_model_module_version": "1.5.0",
                        "_model_name": "DescriptionStyleModel",
                        "_view_count": null,
                        "_view_module": "@jupyter-widgets/base",
                        "_view_module_version": "1.2.0",
                        "_view_name": "StyleView",
                        "description_width": ""
                    }
                },
                "c00a6ecd68c94736b02492b293abbeaa": {
                    "model_module": "@jupyter-widgets/base",
                    "model_name": "LayoutModel",
                    "state": {
                        "_model_module": "@jupyter-widgets/base",
                        "_model_module_version": "1.2.0",
                        "_model_name": "LayoutModel",
                        "_view_count": null,
                        "_view_module": "@jupyter-widgets/base",
                        "_view_module_version": "1.2.0",
                        "_view_name": "LayoutView",
                        "align_content": null,
                        "align_items": null,
                        "align_self": null,
                        "border": null,
                        "bottom": null,
                        "display": null,
                        "flex": null,
                        "flex_flow": null,
                        "grid_area": null,
                        "grid_auto_columns": null,
                        "grid_auto_flow": null,
                        "grid_auto_rows": null,
                        "grid_column": null,
                        "grid_gap": null,
                        "grid_row": null,
                        "grid_template_areas": null,
                        "grid_template_columns": null,
                        "grid_template_rows": null,
                        "height": null,
                        "justify_content": null,
                        "justify_items": null,
                        "left": null,
                        "margin": null,
                        "max_height": null,
                        "max_width": null,
                        "min_height": null,
                        "min_width": null,
                        "object_fit": null,
                        "object_position": null,
                        "order": null,
                        "overflow": null,
                        "overflow_x": null,
                        "overflow_y": null,
                        "padding": null,
                        "right": null,
                        "top": null,
                        "visibility": null,
                        "width": null
                    }
                },
                "e127c317d5254e7db5a07f74b346ea5b": {
                    "model_module": "@jupyter-widgets/controls",
                    "model_name": "ProgressStyleModel",
                    "state": {
                        "_model_module": "@jupyter-widgets/controls",
                        "_model_module_version": "1.5.0",
                        "_model_name": "ProgressStyleModel",
                        "_view_count": null,
                        "_view_module": "@jupyter-widgets/base",
                        "_view_module_version": "1.2.0",
                        "_view_name": "StyleView",
                        "bar_color": null,
                        "description_width": "initial"
                    }
                },
                "e5558ceda3bf4e5dbab62d6c50ece704": {
                    "model_module": "@jupyter-widgets/controls",
                    "model_name": "ProgressStyleModel",
                    "state": {
                        "_model_module": "@jupyter-widgets/controls",
                        "_model_module_version": "1.5.0",
                        "_model_name": "ProgressStyleModel",
                        "_view_count": null,
                        "_view_module": "@jupyter-widgets/base",
                        "_view_module_version": "1.2.0",
                        "_view_name": "StyleView",
                        "bar_color": null,
                        "description_width": "initial"
                    }
                },
                "ead90a0045784c23847b5af9885b9ac9": {
                    "model_module": "@jupyter-widgets/base",
                    "model_name": "LayoutModel",
                    "state": {
                        "_model_module": "@jupyter-widgets/base",
                        "_model_module_version": "1.2.0",
                        "_model_name": "LayoutModel",
                        "_view_count": null,
                        "_view_module": "@jupyter-widgets/base",
                        "_view_module_version": "1.2.0",
                        "_view_name": "LayoutView",
                        "align_content": null,
                        "align_items": null,
                        "align_self": null,
                        "border": null,
                        "bottom": null,
                        "display": null,
                        "flex": null,
                        "flex_flow": null,
                        "grid_area": null,
                        "grid_auto_columns": null,
                        "grid_auto_flow": null,
                        "grid_auto_rows": null,
                        "grid_column": null,
                        "grid_gap": null,
                        "grid_row": null,
                        "grid_template_areas": null,
                        "grid_template_columns": null,
                        "grid_template_rows": null,
                        "height": null,
                        "justify_content": null,
                        "justify_items": null,
                        "left": null,
                        "margin": null,
                        "max_height": null,
                        "max_width": null,
                        "min_height": null,
                        "min_width": null,
                        "object_fit": null,
                        "object_position": null,
                        "order": null,
                        "overflow": null,
                        "overflow_x": null,
                        "overflow_y": null,
                        "padding": null,
                        "right": null,
                        "top": null,
                        "visibility": null,
                        "width": null
                    }
                },
                "ee0d4c918c4a414095ddb3df6214d75d": {
                    "model_module": "@jupyter-widgets/controls",
                    "model_name": "HBoxModel",
                    "state": {
                        "_dom_classes": [],
                        "_model_module":
                        "@jupyter-widgets/controls",
                        "_model_module_version":
                        "1.5.0",
                        "_model_name":
                        "HBoxModel",
                        "_view_count":
                        null,
                        "_view_module":
                        "@jupyter-widgets/controls",
                        "_view_module_version":
                        "1.5.0",
                        "_view_name":
                        "HBoxView",
                        "box_style":
                        "",
                        "children": [
                            "IPY_MODEL_878f8759fd834d0f801ef63c3f50ae0e",
                            "IPY_MODEL_7c357cedefa844c787bd6552bf0572a2"
                        ],
                        "layout":
                        "IPY_MODEL_ead90a0045784c23847b5af9885b9ac9"
                    }
                },
                "f41e1f7f064b49728c182a5593526541": {
                    "model_module": "@jupyter-widgets/controls",
                    "model_name": "DescriptionStyleModel",
                    "state": {
                        "_model_module": "@jupyter-widgets/controls",
                        "_model_module_version": "1.5.0",
                        "_model_name": "DescriptionStyleModel",
                        "_view_count": null,
                        "_view_module": "@jupyter-widgets/base",
                        "_view_module_version": "1.2.0",
                        "_view_name": "StyleView",
                        "description_width": ""
                    }
                },
                "f721e07b9f2e4e5e9993d823f015ba05": {
                    "model_module": "@jupyter-widgets/base",
                    "model_name": "LayoutModel",
                    "state": {
                        "_model_module": "@jupyter-widgets/base",
                        "_model_module_version": "1.2.0",
                        "_model_name": "LayoutModel",
                        "_view_count": null,
                        "_view_module": "@jupyter-widgets/base",
                        "_view_module_version": "1.2.0",
                        "_view_name": "LayoutView",
                        "align_content": null,
                        "align_items": null,
                        "align_self": null,
                        "border": null,
                        "bottom": null,
                        "display": null,
                        "flex": null,
                        "flex_flow": null,
                        "grid_area": null,
                        "grid_auto_columns": null,
                        "grid_auto_flow": null,
                        "grid_auto_rows": null,
                        "grid_column": null,
                        "grid_gap": null,
                        "grid_row": null,
                        "grid_template_areas": null,
                        "grid_template_columns": null,
                        "grid_template_rows": null,
                        "height": null,
                        "justify_content": null,
                        "justify_items": null,
                        "left": null,
                        "margin": null,
                        "max_height": null,
                        "max_width": null,
                        "min_height": null,
                        "min_width": null,
                        "object_fit": null,
                        "object_position": null,
                        "order": null,
                        "overflow": null,
                        "overflow_x": null,
                        "overflow_y": null,
                        "padding": null,
                        "right": null,
                        "top": null,
                        "visibility": null,
                        "width": null
                    }
                },
                "fdd111545fd047db9bf08c66d72ca02d": {
                    "model_module": "@jupyter-widgets/controls",
                    "model_name": "HBoxModel",
                    "state": {
                        "_dom_classes": [],
                        "_model_module":
                        "@jupyter-widgets/controls",
                        "_model_module_version":
                        "1.5.0",
                        "_model_name":
                        "HBoxModel",
                        "_view_count":
                        null,
                        "_view_module":
                        "@jupyter-widgets/controls",
                        "_view_module_version":
                        "1.5.0",
                        "_view_name":
                        "HBoxView",
                        "box_style":
                        "",
                        "children": [
                            "IPY_MODEL_46a33698f5f5493ea4a0bb96922037ca",
                            "IPY_MODEL_392ce24713c044c39d89e0c73ff76f7e"
                        ],
                        "layout":
                        "IPY_MODEL_a151e3a88a93444e9f54ddb126e3a943"
                    }
                }
            }
        }
    },
    "nbformat":
    4,
    "nbformat_minor":
    1
}
