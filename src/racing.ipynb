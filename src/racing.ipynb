{
  "nbformat": 4,
  "nbformat_minor": 0,
  "metadata": {
    "accelerator": "GPU",
    "colab": {
      "name": "racing.ipynb",
      "provenance": [],
      "collapsed_sections": [],
      "include_colab_link": true
    },
    "kernelspec": {
      "display_name": "Python 3",
      "language": "python",
      "name": "python3"
    },
    "language_info": {
      "codemirror_mode": {
        "name": "ipython",
        "version": 3
      },
      "file_extension": ".py",
      "mimetype": "text/x-python",
      "name": "python",
      "nbconvert_exporter": "python",
      "pygments_lexer": "ipython3",
      "version": "3.7.7"
    }
  },
  "cells": [
    {
      "cell_type": "markdown",
      "metadata": {
        "id": "view-in-github",
        "colab_type": "text"
      },
      "source": [
        "<a href=\"https://colab.research.google.com/github/zhestyatsky/mipt-opt-project/blob/dev/src/racing.ipynb\" target=\"_parent\"><img src=\"https://colab.research.google.com/assets/colab-badge.svg\" alt=\"Open In Colab\"/></a>"
      ]
    },
    {
      "cell_type": "code",
      "metadata": {
        "colab_type": "code",
        "id": "h0fUe8pKcBST",
        "pycharm": {
          "name": "#%%\n"
        },
        "colab": {}
      },
      "source": [
        "!git clone https://github.com/zhestyatsky/mipt-opt-project.git\n",
        "import sys\n",
        "sys.path.append('/content/mipt-opt-project/src')"
      ],
      "execution_count": 0,
      "outputs": []
    },
    {
      "cell_type": "code",
      "metadata": {
        "colab_type": "code",
        "id": "0OAWkK4JY7hg",
        "colab": {}
      },
      "source": [
        "import copy\n",
        "import matplotlib.pyplot as plt\n",
        "\n",
        "import torch\n",
        "import torchvision.datasets as dsets\n",
        "import torchvision.transforms as transforms\n",
        "\n",
        "import utils\n",
        "from spider_boost import spider_boost\n",
        "from natasha import natasha_15, natasha_2"
      ],
      "execution_count": 0,
      "outputs": []
    },
    {
      "cell_type": "code",
      "metadata": {
        "colab_type": "code",
        "id": "HsfTiE5TY7h2",
        "colab": {}
      },
      "source": [
        "train_dataset = dsets.MNIST(root='~/.pytorch/MNIST_data/', train=True, transform=transforms.ToTensor(), download=True)\n",
        "train_dataset = utils.DatasetWrapper(train_dataset)"
      ],
      "execution_count": 0,
      "outputs": []
    },
    {
      "cell_type": "code",
      "metadata": {
        "colab_type": "code",
        "id": "Af4gw5CJY7iE",
        "colab": {}
      },
      "source": [
        "class CustomModel(torch.nn.Module):\n",
        "    def __init__(self, input_dim, output_dim):\n",
        "        super(CustomModel, self).__init__()\n",
        "        self.conv1 = torch.nn.Linear(input_dim, output_dim)\n",
        "\n",
        "    def forward(self, x):\n",
        "        outputs = torch.sigmoid(self.conv1(x))\n",
        "        return outputs"
      ],
      "execution_count": 0,
      "outputs": []
    },
    {
      "cell_type": "code",
      "metadata": {
        "colab_type": "code",
        "id": "ySi2glFRY7iM",
        "colab": {}
      },
      "source": [
        "loss = torch.nn.CrossEntropyLoss()\n",
        "regularizer = utils.regularizer"
      ],
      "execution_count": 0,
      "outputs": []
    },
    {
      "cell_type": "code",
      "metadata": {
        "colab_type": "code",
        "id": "ING4gd6_Y7iS",
        "colab": {}
      },
      "source": [
        "batch_size = 6000\n",
        "learning_rate = 0.001\n",
        "learning_rate_adagrad = 0.001\n",
        "learning_rate_decay = 0.001\n",
        "n_epochs = 150"
      ],
      "execution_count": 0,
      "outputs": []
    },
    {
      "cell_type": "code",
      "metadata": {
        "colab_type": "code",
        "id": "UIjQYpcj5q_y",
        "colab": {}
      },
      "source": [
        "gd_model = CustomModel(784, 10)\n",
        "gd_mom_model = copy.deepcopy(gd_model)\n",
        "adagrad_model = copy.deepcopy(gd_model)\n",
        "adam_model = copy.deepcopy(gd_model)\n",
        "\n",
        "sb_model = copy.deepcopy(gd_model)\n",
        "sb_mom_model = copy.deepcopy(gd_model)\n",
        "\n",
        "n15_model = copy.deepcopy(gd_model)\n",
        "n2_model = copy.deepcopy(gd_model)\n",
        "\n",
        "if torch.cuda.is_available():\n",
        "    gd_model = gd_model.cuda()\n",
        "    gd_mom_model = gd_mom_model.cuda()\n",
        "    adagrad_model = adagrad_model.cuda()\n",
        "    adam_model = adam_model.cuda()\n",
        "    \n",
        "    sb_model = sb_model.cuda()\n",
        "    sb_mom_model = copy.deepcopy(gd_model).cuda()\n",
        "    \n",
        "    n15_model = n15_model.cuda()\n",
        "    n2_model = n2_model.cuda()"
      ],
      "execution_count": 0,
      "outputs": []
    },
    {
      "cell_type": "code",
      "metadata": {
        "colab_type": "code",
        "id": "NGfIt5tUkDW0",
        "colab": {}
      },
      "source": [
        "gd_opt = torch.optim.SGD(gd_model.parameters(), lr=learning_rate)\n",
        "gd_mom_opt = torch.optim.SGD(gd_mom_model.parameters(), lr=learning_rate, momentum=0.9)\n",
        "adagrad_opt = torch.optim.Adagrad(adagrad_model.parameters(), lr=learning_rate_adagrad, lr_decay=learning_rate_decay)\n",
        "adam_opt = torch.optim.Adam(adam_model.parameters(), lr=learning_rate)"
      ],
      "execution_count": 0,
      "outputs": []
    },
    {
      "cell_type": "code",
      "metadata": {
        "colab_type": "code",
        "id": "1CRVPi9GY7iX",
        "outputId": "78c1a9b5-fb35-4446-b3d7-8408d6517c35",
        "scrolled": false,
        "colab": {
          "base_uri": "https://localhost:8080/",
          "height": 51
        }
      },
      "source": [
        "%%time\n",
        "gd_total_loss = utils.opt_algorithm(gd_opt, train_dataset, batch_size, gd_model, loss, regularizer, n_epochs)"
      ],
      "execution_count": 9,
      "outputs": [
        {
          "output_type": "stream",
          "text": [
            "CPU times: user 1min 8s, sys: 1.04 s, total: 1min 9s\n",
            "Wall time: 1min 9s\n"
          ],
          "name": "stdout"
        }
      ]
    },
    {
      "cell_type": "code",
      "metadata": {
        "colab_type": "code",
        "id": "-YxCXHb0i16T",
        "outputId": "9965bf9d-11cf-4bc2-ab51-9e2f226c503f",
        "colab": {
          "base_uri": "https://localhost:8080/",
          "height": 51
        }
      },
      "source": [
        "%%time\n",
        "gd_mom_total_loss = utils.opt_algorithm(gd_mom_opt, train_dataset, batch_size, gd_mom_model, loss, regularizer, n_epochs)"
      ],
      "execution_count": 10,
      "outputs": [
        {
          "output_type": "stream",
          "text": [
            "CPU times: user 1min 8s, sys: 812 ms, total: 1min 9s\n",
            "Wall time: 1min 9s\n"
          ],
          "name": "stdout"
        }
      ]
    },
    {
      "cell_type": "code",
      "metadata": {
        "colab_type": "code",
        "id": "cH_94z6Bi16V",
        "outputId": "ab604cda-ea59-48fa-bf21-9d9b88781861",
        "colab": {
          "base_uri": "https://localhost:8080/",
          "height": 51
        }
      },
      "source": [
        "%%time\n",
        "adagrad_total_loss = utils.opt_algorithm(adagrad_opt, train_dataset, batch_size, adagrad_model, loss, regularizer, n_epochs)"
      ],
      "execution_count": 11,
      "outputs": [
        {
          "output_type": "stream",
          "text": [
            "CPU times: user 1min 8s, sys: 858 ms, total: 1min 9s\n",
            "Wall time: 1min 9s\n"
          ],
          "name": "stdout"
        }
      ]
    },
    {
      "cell_type": "code",
      "metadata": {
        "colab_type": "code",
        "id": "Y-TiEds0i16Y",
        "outputId": "17307105-1d4b-45a3-912f-df8de9a6feff",
        "colab": {
          "base_uri": "https://localhost:8080/",
          "height": 51
        }
      },
      "source": [
        "%%time\n",
        "adam_total_loss = utils.opt_algorithm(adam_opt, train_dataset, batch_size, adam_model, loss, regularizer, n_epochs)"
      ],
      "execution_count": 12,
      "outputs": [
        {
          "output_type": "stream",
          "text": [
            "CPU times: user 1min 7s, sys: 796 ms, total: 1min 8s\n",
            "Wall time: 1min 8s\n"
          ],
          "name": "stdout"
        }
      ]
    },
    {
      "cell_type": "code",
      "metadata": {
        "colab_type": "code",
        "id": "zAXbry7K8Gha",
        "outputId": "8f9bdd0b-1834-482c-b3b4-b02b944c2247",
        "colab": {
          "base_uri": "https://localhost:8080/",
          "height": 51
        }
      },
      "source": [
        "%%time\n",
        "sb_total_loss = spider_boost(train_dataset, batch_size, sb_model, loss, regularizer, learning_rate, n_epochs)"
      ],
      "execution_count": 13,
      "outputs": [
        {
          "output_type": "stream",
          "text": [
            "CPU times: user 1min 9s, sys: 794 ms, total: 1min 9s\n",
            "Wall time: 1min 10s\n"
          ],
          "name": "stdout"
        }
      ]
    },
    {
      "cell_type": "code",
      "metadata": {
        "id": "zxBpbeGJLEc9",
        "colab_type": "code",
        "colab": {
          "base_uri": "https://localhost:8080/",
          "height": 51
        },
        "outputId": "3e0013dc-dfc9-470d-8e2b-21ec77e2370e"
      },
      "source": [
        "%%time\n",
        "sb_mom_total_loss = spider_boost(train_dataset, batch_size, sb_mom_model, loss, regularizer, learning_rate, n_epochs, momentum=0.9)"
      ],
      "execution_count": 16,
      "outputs": [
        {
          "output_type": "stream",
          "text": [
            "CPU times: user 1min 10s, sys: 838 ms, total: 1min 11s\n",
            "Wall time: 1min 11s\n"
          ],
          "name": "stdout"
        }
      ]
    },
    {
      "cell_type": "code",
      "metadata": {
        "colab_type": "code",
        "id": "jqxvDpFh8Krd",
        "colab": {}
      },
      "source": [
        "#%%time\n",
        "#n_15_total_loss = natasha_15(train_dataset, batch_size, n15_model, loss, regularizer, learning_rate, n_epochs, sigma=10)"
      ],
      "execution_count": 0,
      "outputs": []
    },
    {
      "cell_type": "code",
      "metadata": {
        "colab_type": "code",
        "id": "jfdGZfBU8Oa1",
        "colab": {}
      },
      "source": [
        "#%%time\n",
        "#n_2_total_loss = natasha_2(train_dataset, batch_size, n2_model, loss, regularizer, learning_rate, n_epochs)"
      ],
      "execution_count": 0,
      "outputs": []
    },
    {
      "cell_type": "code",
      "metadata": {
        "colab_type": "code",
        "id": "8iDBva7Jb80c",
        "outputId": "b3bf4da4-cd7f-470e-96b3-fb236d7e335d",
        "colab": {
          "base_uri": "https://localhost:8080/",
          "height": 580
        }
      },
      "source": [
        "plt.figure(figsize=(20,10))\n",
        "plt.plot(adagrad_total_loss, 'o', label='Adagrad')\n",
        "plt.plot(adam_total_loss, 'o', label='Adam')\n",
        "plt.plot(gd_total_loss, 'o', label='SGD')\n",
        "plt.plot(gd_mom_total_loss, 'o', label='SGD momentum')\n",
        "#plt.plot(n_15_total_loss, 'o', label='Natasha 1.5')\n",
        "#plt.plot(n_2_total_loss, 'o', label='Natasha 2')\n",
        "plt.plot(sb_total_loss, 'o', label='Spider Boost')\n",
        "plt.plot(sb_mom_total_loss, 'o', label='Spider Boost momentum')\n",
        "plt.legend()\n",
        "plt.semilogy()\n",
        "plt.show()"
      ],
      "execution_count": 17,
      "outputs": [
        {
          "output_type": "display_data",
          "data": {
            "image/png": "[encoded data removed]",
            "text/plain": [
              "<Figure size 1440x720 with 1 Axes>"
            ]
          },
          "metadata": {
            "tags": [],
            "needs_background": "light"
          }
        }
      ]
    }
  ]
}