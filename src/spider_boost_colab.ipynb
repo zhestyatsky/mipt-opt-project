{
  "nbformat": 4,
  "nbformat_minor": 0,
  "metadata": {
    "kernelspec": {
      "display_name": "Python 3",
      "language": "python",
      "name": "python3"
    },
    "language_info": {
      "codemirror_mode": {
        "name": "ipython",
        "version": 3
      },
      "file_extension": ".py",
      "mimetype": "text/x-python",
      "name": "python",
      "nbconvert_exporter": "python",
      "pygments_lexer": "ipython3",
      "version": "3.7.7"
    },
    "colab": {
      "name": "Copy of spider_boost.ipynb",
      "provenance": [],
      "include_colab_link": true
    },
    "accelerator": "GPU"
  },
  "cells": [
    {
      "cell_type": "markdown",
      "metadata": {
        "id": "view-in-github",
        "colab_type": "text"
      },
      "source": [
        "<a href=\"https://colab.research.google.com/github/zhestyatsky/mipt-opt-project/blob/dev/src/spider_boost_colab.ipynb\" target=\"_parent\"><img src=\"https://colab.research.google.com/assets/colab-badge.svg\" alt=\"Open In Colab\"/></a>"
      ]
    },
    {
      "cell_type": "code",
      "metadata": {
        "id": "wuq9sPp8gbvj",
        "colab_type": "code",
        "colab": {}
      },
      "source": [
        "import copy\n",
        "import matplotlib.pyplot as plt\n",
        "import numpy as np\n",
        "import torch\n",
        "import torchvision.datasets as dsets\n",
        "import torchvision.transforms as transforms\n",
        "import sys\n",
        "import random"
      ],
      "execution_count": 0,
      "outputs": []
    },
    {
      "cell_type": "code",
      "metadata": {
        "id": "ffGCCmNYgbvw",
        "colab_type": "code",
        "colab": {}
      },
      "source": [
        "def gradient_descent(x, y, model, loss, regularizer, lr, n_iters, samples_num):\n",
        "    total_loss = np.zeros(n_iters)\n",
        "    optimizer = torch.optim.SGD(model.parameters(), lr=lr)\n",
        "    mask_helper = range(y.shape[0])\n",
        "    \n",
        "    for k in range(n_iters):\n",
        "        y_pred = model(x)\n",
        "        sample = random.sample(mask_helper, samples_num)\n",
        "        \n",
        "        # Calculate sample loss and regularizer loss\n",
        "        sample_loss = loss(y_pred[sample], y[sample])\n",
        "        reg_loss = regularizer(model.parameters())\n",
        "        sample_loss += reg_loss\n",
        "        sample_loss.backward()\n",
        "        \n",
        "        # Save total loss\n",
        "        total_loss[k] = loss(y_pred, y).item() + reg_loss.item()\n",
        "        \n",
        "        # Optimize\n",
        "        optimizer.step()\n",
        "        optimizer.zero_grad()\n",
        "\n",
        "        if k % 100 == 0:\n",
        "          print(f'iter:{k}')\n",
        "\n",
        "    return total_loss"
      ],
      "execution_count": 0,
      "outputs": []
    },
    {
      "cell_type": "code",
      "metadata": {
        "id": "bGuxRHuqgbv6",
        "colab_type": "code",
        "colab": {}
      },
      "source": [
        "def spider_boost(x, y, model, model_prev, loss, regularizer, lr, q, n_iters, samples_num):\n",
        "    total_loss = np.zeros(n_iters)\n",
        "    \n",
        "    opt = torch.optim.SGD(model.parameters(), lr=lr)\n",
        "    opt_prev = torch.optim.SGD(model_prev.parameters(), lr=lr)\n",
        "    \n",
        "    mask_helper = range(y.shape[0])\n",
        "    \n",
        "    for k in range(n_iters):\n",
        "        if k % q == 0:\n",
        "            # Calculating fool gradient\n",
        "            opt.zero_grad()\n",
        "            y_pred = model(x)\n",
        "            \n",
        "            # Calculate total loss\n",
        "            main_loss = loss(y_pred, y) + regularizer(model.parameters())\n",
        "            main_loss.backward()\n",
        "            total_loss[k] = main_loss.item()\n",
        "            \n",
        "            # Saving current model state and zero grad it\n",
        "            for param, param_prev in zip(model.parameters(), model_prev.parameters()):\n",
        "                param_prev.data = param.data.clone().detach()\n",
        "            opt_prev.zero_grad()\n",
        "            \n",
        "            opt.step()\n",
        "        else:\n",
        "            sample = random.sample(mask_helper, samples_num)\n",
        "            \n",
        "            # Add positive sample gradients\n",
        "            y_pred = model(x)\n",
        "            sample_loss = loss(y_pred[sample], y[sample])\n",
        "            reg_loss = regularizer(model.parameters())\n",
        "            sample_loss += reg_loss\n",
        "            sample_loss.backward()\n",
        "            \n",
        "            # Calculate sample gradients of previous state\n",
        "            y_pred_prev = model_prev(x)\n",
        "            sample_loss_prev = loss(y_pred_prev[sample], y[sample])\n",
        "            sample_loss_prev.backward()\n",
        "            \n",
        "            # Subtract those gradients from current gradients and save current satae\n",
        "            for param, param_prev in zip(model.parameters(), model_prev.parameters()):\n",
        "                param.grad.data -= param_prev.grad.data\n",
        "                param_prev.data = param.data.clone().detach()\n",
        "            opt_prev.zero_grad()\n",
        "            \n",
        "            # Save total loss\n",
        "            total_loss[k] = loss(y_pred, y).item() + reg_loss.item()\n",
        "            \n",
        "            opt.step()\n",
        "        if k % 100 == 0:\n",
        "            print(f'iter:{k}')\n",
        "    return total_loss"
      ],
      "execution_count": 0,
      "outputs": []
    },
    {
      "cell_type": "code",
      "metadata": {
        "id": "pLL5EyM_gbwC",
        "colab_type": "code",
        "colab": {}
      },
      "source": [
        "train_dataset = dsets.MNIST(root='~/.pytorch/MNIST_data/', train=True, transform=transforms.ToTensor(), download=True)\n",
        "train_loader = torch.utils.data.DataLoader(dataset=train_dataset, batch_size=len(train_dataset), shuffle=True)"
      ],
      "execution_count": 0,
      "outputs": []
    },
    {
      "cell_type": "code",
      "metadata": {
        "pycharm": {
          "name": "#%%\n"
        },
        "id": "9mvMVEf2gbwJ",
        "colab_type": "code",
        "colab": {}
      },
      "source": [
        "images, labels = next(iter(train_loader))\n",
        "images = images.view(-1, 28 * 28).cuda()\n",
        "labels = labels.cuda()"
      ],
      "execution_count": 0,
      "outputs": []
    },
    {
      "cell_type": "code",
      "metadata": {
        "id": "oIGc5SGGgbwR",
        "colab_type": "code",
        "colab": {}
      },
      "source": [
        "learning_rate = 0.001\n",
        "q = 20\n",
        "n_iters = 5000\n",
        "samples_num = 32"
      ],
      "execution_count": 0,
      "outputs": []
    },
    {
      "cell_type": "code",
      "metadata": {
        "id": "DnYTbTLqgbwX",
        "colab_type": "code",
        "colab": {}
      },
      "source": [
        "loss = torch.nn.CrossEntropyLoss().cuda()\n",
        "def regularizer(parameters, alpha=0.1):\n",
        "    value = 0.0\n",
        "    for p in parameters:\n",
        "        value += alpha * (p**2 / (1 + p**2)).sum()\n",
        "    return value"
      ],
      "execution_count": 0,
      "outputs": []
    },
    {
      "cell_type": "code",
      "metadata": {
        "scrolled": true,
        "id": "hZEhEMSvgbwe",
        "colab_type": "code",
        "outputId": "3b4002b4-3be3-4f8b-f8bf-5b19c50b1536",
        "colab": {
          "base_uri": "https://localhost:8080/",
          "height": 1000
        }
      },
      "source": [
        "class LogisticRegression(torch.nn.Module):\n",
        "    def __init__(self, input_dim, output_dim):\n",
        "        super(LogisticRegression, self).__init__()\n",
        "        self.linear = torch.nn.Linear(input_dim, output_dim)\n",
        "\n",
        "    def forward(self, x):\n",
        "        outputs = torch.sigmoid(self.linear(x))\n",
        "        return outputs\n",
        "\n",
        "class CustomModel(torch.nn.Module):\n",
        "    def __init__(self, input_dim, output_dim):\n",
        "        super(CustomModel, self).__init__()\n",
        "        self.conv1 = torch.nn.Linear(input_dim, 1000)\n",
        "        self.conv2 = torch.nn.Linear(1000, 2000)\n",
        "        self.conv3 = torch.nn.Linear(2000, output_dim)\n",
        "\n",
        "    def forward(self, x):\n",
        "        x = torch.relu(self.conv1(x))\n",
        "        x = torch.relu(self.conv2(x))\n",
        "        x = self.conv3(x)\n",
        "        outputs = torch.sigmoid(x)\n",
        "        return outputs\n",
        "    \n",
        "gd_model = CustomModel(784, 10).cuda()\n",
        "sb_model = copy.deepcopy(gd_model).cuda()\n",
        "sb_model_prev = copy.deepcopy(gd_model).cuda()\n",
        "\n",
        "gd_total_loss = gradient_descent(images, labels, gd_model, loss, regularizer, learning_rate, n_iters, samples_num)\n",
        "sp_boost_total_loss = spider_boost(images, labels, sb_model, sb_model_prev, loss, regularizer, learning_rate, q, n_iters, samples_num)"
      ],
      "execution_count": 0,
      "outputs": [
        {
          "output_type": "stream",
          "text": [
            "iter:0\n",
            "iter:100\n",
            "iter:200\n",
            "iter:300\n",
            "iter:400\n",
            "iter:500\n",
            "iter:600\n",
            "iter:700\n",
            "iter:800\n",
            "iter:900\n",
            "iter:1000\n",
            "iter:1100\n",
            "iter:1200\n",
            "iter:1300\n",
            "iter:1400\n",
            "iter:1500\n",
            "iter:1600\n",
            "iter:1700\n",
            "iter:1800\n",
            "iter:1900\n",
            "iter:2000\n",
            "iter:2100\n",
            "iter:2200\n",
            "iter:2300\n",
            "iter:2400\n",
            "iter:2500\n",
            "iter:2600\n",
            "iter:2700\n",
            "iter:2800\n",
            "iter:2900\n",
            "iter:3000\n",
            "iter:3100\n",
            "iter:3200\n",
            "iter:3300\n",
            "iter:3400\n",
            "iter:3500\n",
            "iter:3600\n",
            "iter:3700\n",
            "iter:3800\n",
            "iter:3900\n",
            "iter:4000\n",
            "iter:4100\n",
            "iter:4200\n",
            "iter:4300\n",
            "iter:4400\n",
            "iter:4500\n",
            "iter:4600\n",
            "iter:4700\n",
            "iter:4800\n",
            "iter:4900\n",
            "iter:0\n",
            "iter:100\n",
            "iter:200\n",
            "iter:300\n",
            "iter:400\n",
            "iter:500\n",
            "iter:600\n",
            "iter:700\n",
            "iter:800\n",
            "iter:900\n",
            "iter:1000\n",
            "iter:1100\n",
            "iter:1200\n",
            "iter:1300\n",
            "iter:1400\n",
            "iter:1500\n",
            "iter:1600\n",
            "iter:1700\n",
            "iter:1800\n",
            "iter:1900\n",
            "iter:2000\n",
            "iter:2100\n",
            "iter:2200\n",
            "iter:2300\n",
            "iter:2400\n",
            "iter:2500\n",
            "iter:2600\n",
            "iter:2700\n",
            "iter:2800\n",
            "iter:2900\n",
            "iter:3000\n",
            "iter:3100\n",
            "iter:3200\n",
            "iter:3300\n",
            "iter:3400\n",
            "iter:3500\n",
            "iter:3600\n",
            "iter:3700\n",
            "iter:3800\n",
            "iter:3900\n",
            "iter:4000\n",
            "iter:4100\n",
            "iter:4200\n",
            "iter:4300\n",
            "iter:4400\n",
            "iter:4500\n",
            "iter:4600\n",
            "iter:4700\n",
            "iter:4800\n",
            "iter:4900\n"
          ],
          "name": "stdout"
        }
      ]
    },
    {
      "cell_type": "code",
      "metadata": {
        "scrolled": true,
        "id": "nvD9X132gbwi",
        "colab_type": "code",
        "outputId": "8581e155-cbe9-4740-ff9f-03e409b50d6d",
        "colab": {
          "base_uri": "https://localhost:8080/",
          "height": 265
        }
      },
      "source": [
        "# With 2 layers: 784 : 200 -> 200 : 10\n",
        "plt.scatter(np.arange(n_iters), gd_total_loss)\n",
        "plt.scatter(np.arange(n_iters), sp_boost_total_loss, color='orange')\n",
        "plt.show()"
      ],
      "execution_count": 0,
      "outputs": [
        {
          "output_type": "display_data",
          "data": {
            "image/png": "[encoded data removed]",
            "text/plain": [
              "<Figure size 432x288 with 1 Axes>"
            ]
          },
          "metadata": {
            "tags": [],
            "needs_background": "light"
          }
        }
      ]
    },
    {
      "cell_type": "code",
      "metadata": {
        "id": "I0e1RPLhlueT",
        "colab_type": "code",
        "outputId": "37f826a2-0492-4510-f4e7-ec5c47d165f6",
        "colab": {
          "base_uri": "https://localhost:8080/",
          "height": 265
        }
      },
      "source": [
        "# With 3 layers: 784 : 1000 -> 1000 : 2000 -> 2000 : 10\n",
        "plt.scatter(np.arange(n_iters), gd_total_loss)\n",
        "plt.scatter(np.arange(n_iters), sp_boost_total_loss, color='orange')\n",
        "plt.show()"
      ],
      "execution_count": 0,
      "outputs": [
        {
          "output_type": "display_data",
          "data": {
            "image/png": "[encoded data removed]",
            "text/plain": [
              "<Figure size 432x288 with 1 Axes>"
            ]
          },
          "metadata": {
            "tags": [],
            "needs_background": "light"
          }
        }
      ]
    }
  ]
}