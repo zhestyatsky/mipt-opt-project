{
 "cells": [
  {
   "cell_type": "code",
   "execution_count": null,
   "metadata": {},
   "outputs": [],
   "source": [
    "import matplotlib.pyplot as plt\n",
    "import numpy as np\n",
    "import torch\n",
    "from sklearn import datasets\n",
    "from time import time\n",
    "import sys\n",
    "import random"
   ]
  },
  {
   "cell_type": "code",
   "execution_count": null,
   "metadata": {},
   "outputs": [],
   "source": [
    "n_samples = 150\n",
    "n_features = 1\n",
    "X_numpy, Y_numpy = datasets.make_regression(n_samples=n_samples, n_features=n_features, noise=20, random_state=4)\n",
    "X = torch.from_numpy(X_numpy.astype(np.float32))\n",
    "Y = torch.from_numpy(Y_numpy.astype(np.float32)).view(-1, n_features)"
   ]
  },
  {
   "cell_type": "code",
   "execution_count": null,
   "metadata": {},
   "outputs": [],
   "source": [
    "def gradient_descent(x, y, model, loss, lr, n_iters):\n",
    "    total_loss = np.zeros(n_iters)\n",
    "    optimizer = torch.optim.SGD(model.parameters(), lr=lr)\n",
    "    for k in range(n_iters):\n",
    "        y_pred = model(x)\n",
    "        l = loss(y, y_pred)\n",
    "        l.backward()\n",
    "        total_loss[k] = l.item()\n",
    "        optimizer.step()\n",
    "        optimizer.zero_grad()\n",
    "    return total_loss"
   ]
  },
  {
   "cell_type": "code",
   "execution_count": null,
   "metadata": {},
   "outputs": [],
   "source": [
    "def spider_boost(x, y, model, loss, lr, full_grad_count, n_iters, samples_num):\n",
    "    total_loss = np.zeros(n_iters)\n",
    "    optimizer = torch.optim.SGD(model.parameters(), lr=lr)\n",
    "    \n",
    "    q = n_iters // full_grad_count\n",
    "    mask_helper = range(y.shape[0])\n",
    "\n",
    "    sample = None\n",
    "    extra_grads = None\n",
    "    \n",
    "    for k in range(n_iters):\n",
    "        y_pred = model(x)\n",
    "        if k % q == 0:\n",
    "            # Compute sample and gradients sum for the next step\n",
    "            optimizer.zero_grad()\n",
    "            sample = random.sample(mask_helper, samples_num)\n",
    "            extra_loss = loss(y[sample], y_pred[sample])\n",
    "            extra_loss.backward(retain_graph=True)\n",
    "            extra_grads = [p.grad.clone().detach() for p in model.parameters()]\n",
    "            \n",
    "            #print(f'iter={k}: saving extra_grads')\n",
    "            #for gr in extra_grads:\n",
    "            #    print(f'extra grad = {gr}')\n",
    "            \n",
    "            # Optimize with usual default gradient descent\n",
    "            optimizer.zero_grad()\n",
    "            main_loss = loss(y, y_pred)\n",
    "            main_loss.backward()\n",
    "            total_loss[k] = main_loss.item()\n",
    "            optimizer.step()\n",
    "        else:\n",
    "            # Add precomputed negative gradients\n",
    "            with torch.no_grad():\n",
    "                #print(f'iter={k}, substracting extra_grads')\n",
    "                for p, ex_grad in zip(model.parameters(), extra_grads):\n",
    "                    #print(f'curr grad = {p.grad}, extra grad = {ex_grad}')\n",
    "                    \"\"\"\n",
    "                    HERE IT SHOULD BE SUBSTRACTION INSTEAD OF ADDITION\n",
    "                    \"\"\"\n",
    "                    p.grad += ex_grad\n",
    "            \n",
    "            #for p in model.parameters():\n",
    "            #    print(f'grad after substracting = {p.grad}')\n",
    "            \n",
    "            # Add current step gradients, using precomputed sample\n",
    "            positive_loss = loss(y[sample], y_pred[sample])\n",
    "            positive_loss.backward(retain_graph=True)\n",
    "            \n",
    "            #for p in model.parameters():\n",
    "            #    print(f'grad after adding = {p.grad}')\n",
    "            \n",
    "            sample = None\n",
    "            extra_grads = None\n",
    "            \n",
    "            # Compute sample and negative gradients sum for the next step\n",
    "            if (k + 1) % q != 0:\n",
    "                # Save current gradients\n",
    "                curr_grads = [p.grad.clone().detach() for p in model.parameters()]\n",
    "                \n",
    "                # Compute sample and gradients sum for the next step\n",
    "                optimizer.zero_grad()\n",
    "                sample = random.sample(mask_helper, samples_num)\n",
    "                extra_loss = loss(y[sample], y_pred[sample])\n",
    "                extra_loss.backward()\n",
    "                extra_grads = [p.grad.clone().detach() for p in model.parameters()]\n",
    "                \n",
    "                #print(f'iter={k}: saving extra_grads')\n",
    "                #for gr in extra_grads:\n",
    "                #    print(f'extra grad = {gr}')\n",
    "                \n",
    "                # Return gradients back\n",
    "                optimizer.zero_grad()\n",
    "                with torch.no_grad():\n",
    "                    for p, curr_grad in zip(model.parameters(), curr_grads):\n",
    "                        p.grad = curr_grad\n",
    "            \n",
    "            # Save total loss\n",
    "            main_loss = loss(y, y_pred)\n",
    "            total_loss[k] = main_loss.item()\n",
    "            \n",
    "            # Optimize with sum of three components\n",
    "            optimizer.step()\n",
    "    return total_loss"
   ]
  },
  {
   "cell_type": "code",
   "execution_count": null,
   "metadata": {},
   "outputs": [],
   "source": [
    "learning_rate = 0.01\n",
    "n_iters = 120\n",
    "full_grad_count = n_iters // 10\n",
    "samples_num = n_samples // 2\n",
    "loss = torch.nn.MSELoss()"
   ]
  },
  {
   "cell_type": "code",
   "execution_count": null,
   "metadata": {
    "scrolled": true
   },
   "outputs": [],
   "source": [
    "model = torch.nn.Linear(n_features, 1)\n",
    "gd_total_loss = gradient_descent(X, Y, model, loss, learning_rate, n_iters)\n",
    "\n",
    "model = torch.nn.Linear(n_features, 1)\n",
    "sp_boost_total_loss = spider_boost(X, Y, model, loss, learning_rate, full_grad_count, n_iters, samples_num)\n",
    "\n",
    "plt.scatter(np.arange(n_iters), gd_total_loss)\n",
    "plt.scatter(np.arange(n_iters), sp_boost_total_loss, color='orange')"
   ]
  }
 ],
 "metadata": {
  "kernelspec": {
   "display_name": "Python 3",
   "language": "python",
   "name": "python3"
  },
  "language_info": {
   "codemirror_mode": {
    "name": "ipython",
    "version": 3
   },
   "file_extension": ".py",
   "mimetype": "text/x-python",
   "name": "python",
   "nbconvert_exporter": "python",
   "pygments_lexer": "ipython3",
   "version": "3.7.7"
  }
 },
 "nbformat": 4,
 "nbformat_minor": 4
}
