{
 "cells": [
  {
   "cell_type": "code",
   "execution_count": null,
   "metadata": {},
   "outputs": [],
   "source": [
    "import copy\n",
    "import matplotlib.pyplot as plt\n",
    "import numpy as np\n",
    "import torch\n",
    "from sklearn import datasets\n",
    "import sys\n",
    "import random"
   ]
  },
  {
   "cell_type": "code",
   "execution_count": null,
   "metadata": {},
   "outputs": [],
   "source": [
    "n_samples = 10000\n",
    "n_features = 20\n",
    "X_numpy, Y_numpy = datasets.make_regression(n_samples=n_samples, n_features=n_features, noise=10, random_state=42)\n",
    "X = torch.from_numpy(X_numpy.astype(np.float32))\n",
    "Y = torch.from_numpy(Y_numpy.astype(np.float32)).view(-1, 1)"
   ]
  },
  {
   "cell_type": "code",
   "execution_count": null,
   "metadata": {},
   "outputs": [],
   "source": [
    "def gradient_descent(x, y, model, loss, lr, n_iters, samples_num):\n",
    "    total_loss = np.zeros(n_iters)\n",
    "    optimizer = torch.optim.SGD(model.parameters(), lr=lr)\n",
    "    mask_helper = range(y.shape[0])\n",
    "    \n",
    "    for k in range(n_iters):\n",
    "        y_pred = model(x)\n",
    "        sample = random.sample(mask_helper, samples_num)\n",
    "        l = loss(y_pred[sample], y[sample])\n",
    "        l.backward()\n",
    "        total_loss[k] = loss(y_pred, y).item()\n",
    "        optimizer.step()\n",
    "        optimizer.zero_grad()\n",
    "    return total_loss"
   ]
  },
  {
   "cell_type": "code",
   "execution_count": null,
   "metadata": {},
   "outputs": [],
   "source": [
    "def spider_boost(x, y, model, model_prev, loss, lr, q, n_iters, samples_num):\n",
    "    total_loss = np.zeros(n_iters)\n",
    "    \n",
    "    opt = torch.optim.SGD(model.parameters(), lr=lr)\n",
    "    opt_prev = torch.optim.SGD(model_prev.parameters(), lr=lr)\n",
    "    \n",
    "    mask_helper = range(y.shape[0])\n",
    "    \n",
    "    for k in range(n_iters):\n",
    "        if k % q == 0:\n",
    "            # Calculating fool gradient\n",
    "            opt.zero_grad()\n",
    "            y_pred = model(X)\n",
    "            main_loss = loss(y_pred, y)\n",
    "            main_loss.backward()\n",
    "            total_loss[k] = main_loss.item()\n",
    "            \n",
    "            # Saving current model state and zero grad it\n",
    "            for param, param_prev in zip(model.parameters(), model_prev.parameters()):\n",
    "                param_prev.data = param.data.clone().detach()\n",
    "            opt_prev.zero_grad()\n",
    "            \n",
    "            opt.step()\n",
    "        else:\n",
    "            sample = random.sample(mask_helper, samples_num)\n",
    "            \n",
    "            # Add positive sample gradients\n",
    "            y_pred = model(X)\n",
    "            sample_loss = loss(y_pred[sample], y[sample])\n",
    "            sample_loss.backward()\n",
    "            \n",
    "            # Calculate sample gradients of previous state\n",
    "            y_pred_prev = model_prev(X)\n",
    "            sample_loss_prev = loss(y_pred_prev[sample], y[sample])\n",
    "            sample_loss_prev.backward()\n",
    "            \n",
    "            # Subtract those gradients from current gradients and save current satae\n",
    "            for param, param_prev in zip(model.parameters(), model_prev.parameters()):\n",
    "                param.grad.data -= param_prev.grad.data\n",
    "                param_prev.data = param.data.clone().detach()\n",
    "            opt_prev.zero_grad()\n",
    "            \n",
    "            # Save total loss\n",
    "            main_loss = loss(y_pred, y)\n",
    "            total_loss[k] = main_loss.item()\n",
    "            \n",
    "            opt.step()\n",
    "    return total_loss"
   ]
  },
  {
   "cell_type": "code",
   "execution_count": null,
   "metadata": {},
   "outputs": [],
   "source": [
    "learning_rate = 0.001\n",
    "n_iters = 3000\n",
    "q = 10\n",
    "samples_num = 100\n",
    "loss = torch.nn.MSELoss()"
   ]
  },
  {
   "cell_type": "code",
   "execution_count": null,
   "metadata": {
    "scrolled": true
   },
   "outputs": [],
   "source": [
    "class LogisticRegression(torch.nn.Module):\n",
    "    def __init__(self, input_dim, output_dim):\n",
    "        super(LogisticRegression, self).__init__()\n",
    "        self.linear = torch.nn.Linear(input_dim, output_dim)\n",
    "    def forward(self, x):\n",
    "        y_pred = torch.sigmoid(self.linear(x))\n",
    "        return y_pred\n",
    "    \n",
    "#model = LogisticRegression(n_features, 1)\n",
    "model = torch.nn.Linear(n_features, 1)\n",
    "gd_total_loss = gradient_descent(X, Y, model, loss, learning_rate, n_iters, samples_num)\n",
    "\n",
    "#model = LogisticRegression(n_features, 1)\n",
    "model = torch.nn.Linear(n_features, 1)\n",
    "model_prev = copy.deepcopy(model)\n",
    "sp_boost_total_loss = spider_boost(X, Y, model, model_prev, loss, learning_rate, q, n_iters, samples_num)\n",
    "\n",
    "plt.scatter(np.arange(n_iters), gd_total_loss)\n",
    "plt.scatter(np.arange(n_iters), sp_boost_total_loss, color='orange')\n",
    "plt.yscale('log')\n",
    "plt.show()"
   ]
  }
 ],
 "metadata": {
  "kernelspec": {
   "display_name": "Python 3",
   "language": "python",
   "name": "python3"
  },
  "language_info": {
   "codemirror_mode": {
    "name": "ipython",
    "version": 3
   },
   "file_extension": ".py",
   "mimetype": "text/x-python",
   "name": "python",
   "nbconvert_exporter": "python",
   "pygments_lexer": "ipython3",
   "version": "3.7.7"
  }
 },
 "nbformat": 4,
 "nbformat_minor": 4
}
