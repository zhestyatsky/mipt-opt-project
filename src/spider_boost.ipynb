{
  "nbformat": 4,
  "nbformat_minor": 0,
  "metadata": {
    "kernelspec": {
      "display_name": "Python 3",
      "language": "python",
      "name": "python3"
    },
    "language_info": {
      "codemirror_mode": {
        "name": "ipython",
        "version": 3
      },
      "file_extension": ".py",
      "mimetype": "text/x-python",
      "name": "python",
      "nbconvert_exporter": "python",
      "pygments_lexer": "ipython3",
      "version": "3.7.7"
    },
    "colab": {
      "name": "spider_boost.ipynb",
      "provenance": [],
      "include_colab_link": true
    },
    "accelerator": "GPU"
  },
  "cells": [
    {
      "cell_type": "markdown",
      "metadata": {
        "id": "view-in-github",
        "colab_type": "text"
      },
      "source": [
        "<a href=\"https://colab.research.google.com/github/zhestyatsky/mipt-opt-project/blob/dev/src/spider_boost.ipynb\" target=\"_parent\"><img src=\"https://colab.research.google.com/assets/colab-badge.svg\" alt=\"Open In Colab\"/></a>"
      ]
    },
    {
      "cell_type": "code",
      "metadata": {
        "id": "0OAWkK4JY7hg",
        "colab_type": "code",
        "colab": {}
      },
      "source": [
        "import copy\n",
        "import matplotlib.pyplot as plt\n",
        "import numpy as np\n",
        "import torch\n",
        "import torchvision.datasets as dsets\n",
        "import torchvision.transforms as transforms\n",
        "from torch.utils.data import DataLoader, Dataset\n",
        "import sys"
      ],
      "execution_count": 0,
      "outputs": []
    },
    {
      "cell_type": "code",
      "metadata": {
        "id": "NQselpR3Y7ho",
        "colab_type": "code",
        "colab": {}
      },
      "source": [
        "def gradient_descent(train_dataset, batch_size, model, loss, regularizer, lr, n_epochs):\n",
        "    total_loss = np.zeros(n_epochs)   \n",
        "  \n",
        "    x_full, y_full = train_dataset.data, train_dataset.targets\n",
        "    batch_train_loader = DataLoader(dataset=train_dataset, batch_size=batch_size, shuffle=True)\n",
        "    \n",
        "    opt = torch.optim.SGD(model.parameters(), lr=lr)\n",
        "    \n",
        "    for epoch in range(n_epochs):\n",
        "        if epoch % 20 == 0:\n",
        "            print(f'epoch: {epoch}', file=sys.stderr)\n",
        "  \n",
        "        for x_batch, y_batch in batch_train_loader:\n",
        "            # Optimize with batch gradient\n",
        "            opt.zero_grad()\n",
        "            y_pred = model(x_batch)\n",
        "            batch_loss = loss(y_pred, y_batch) + regularizer(model.parameters())\n",
        "            batch_loss.backward()\n",
        "            opt.step()\n",
        "    \n",
        "        # Save loss at the end of the epoch\n",
        "        y_pred = model(x_full)\n",
        "        total_loss[epoch] = loss(y_pred, y_full).item() + regularizer(model.parameters()).item()\n",
        "    return total_loss"
      ],
      "execution_count": 0,
      "outputs": []
    },
    {
      "cell_type": "code",
      "metadata": {
        "id": "INK9xRNNY7hv",
        "colab_type": "code",
        "colab": {}
      },
      "source": [
        "def spider_boost(train_dataset, batch_size, model, loss, regularizer, lr, n_epochs):\n",
        "    total_loss = np.zeros(n_epochs)\n",
        "    \n",
        "    x_full, y_full = train_dataset.data, train_dataset.targets\n",
        "    batch_train_loader = DataLoader(dataset=train_dataset, batch_size=batch_size, shuffle=True)\n",
        "\n",
        "    model_prev = copy.deepcopy(model)\n",
        "    if torch.cuda.is_available():\n",
        "        model_prev = model_prev.cuda()\n",
        "\n",
        "    opt = torch.optim.SGD(model.parameters(), lr=lr)\n",
        "    opt_prev = torch.optim.SGD(model_prev.parameters(), lr=lr)\n",
        "    \n",
        "    for epoch in range(n_epochs):\n",
        "        if epoch % 20 == 0:\n",
        "            print(f'epoch: {epoch}', file=sys.stderr)\n",
        "\n",
        "        # Calculate full gradient first\n",
        "        opt.zero_grad()\n",
        "        y_pred = model(x_full)\n",
        "        main_loss = loss(y_pred, y_full) + regularizer(model.parameters())\n",
        "        main_loss.backward()\n",
        "        \n",
        "        # Saving current model weights and zero grad them\n",
        "        for param, param_prev in zip(model.parameters(), model_prev.parameters()):\n",
        "            param_prev.data = param.data.clone().detach()\n",
        "        opt_prev.zero_grad()\n",
        "        \n",
        "        # Optimize\n",
        "        opt.step()\n",
        "        \n",
        "        for x_batch, y_batch in batch_train_loader:\n",
        "            # Add current state gradients\n",
        "            y_pred = model(x_batch)\n",
        "            batch_loss = loss(y_pred, y_batch) + regularizer(model.parameters())\n",
        "            batch_loss.backward()\n",
        "            \n",
        "            # Calculate previous state gradients\n",
        "            y_pred_prev = model_prev(x_batch)\n",
        "            batch_loss_prev = loss(y_pred_prev, y_batch)\n",
        "            batch_loss_prev.backward()\n",
        "\n",
        "            # Subtract previous state gradients\n",
        "            for param, param_prev in zip(model.parameters(), model_prev.parameters()):\n",
        "                param.grad.data -= param_prev.grad.data\n",
        "                param_prev.data = param.data.clone().detach()\n",
        "            opt_prev.zero_grad()\n",
        "            \n",
        "            # Optimize\n",
        "            opt.step()\n",
        "        \n",
        "        # Save loss at the end of the epoch\n",
        "        y_pred = model(x_full)\n",
        "        total_loss[epoch] = loss(y_pred, y_full).item() + regularizer(model.parameters()).item()\n",
        "    return total_loss"
      ],
      "execution_count": 0,
      "outputs": []
    },
    {
      "cell_type": "code",
      "metadata": {
        "id": "HsfTiE5TY7h2",
        "colab_type": "code",
        "colab": {}
      },
      "source": [
        "class DatasetWrapper(Dataset):\n",
        "    def __init__(self, dataset):\n",
        "        self.data, self.targets = dataset.data, dataset.targets\n",
        "        \n",
        "        self.data = self.data.float().view(len(self.data), -1)\n",
        "        if torch.cuda.is_available():\n",
        "            self.data = self.data.cuda()\n",
        "            self.targets = self.targets.cuda()\n",
        "\n",
        "    def __len__(self):\n",
        "        return len(self.data)\n",
        "\n",
        "    def __getitem__(self, index):\n",
        "        return self.data[index], self.targets[index]\n",
        "\n",
        "train_dataset = dsets.MNIST(root='~/.pytorch/MNIST_data/', train=True, transform=transforms.ToTensor(), download=True)\n",
        "train_dataset = DatasetWrapper(train_dataset)"
      ],
      "execution_count": 0,
      "outputs": []
    },
    {
      "cell_type": "code",
      "metadata": {
        "id": "Af4gw5CJY7iE",
        "colab_type": "code",
        "colab": {}
      },
      "source": [
        "class CustomModel(torch.nn.Module):\n",
        "    def __init__(self, input_dim, output_dim):\n",
        "        super(CustomModel, self).__init__()\n",
        "        self.conv1 = torch.nn.Linear(input_dim, 28)\n",
        "        self.conv2 = torch.nn.Linear(28, output_dim)\n",
        "\n",
        "    def forward(self, x):\n",
        "        x = torch.relu(self.conv1(x))\n",
        "        outputs = torch.sigmoid(self.conv2(x))\n",
        "        return outputs\n",
        "    \n",
        "gd_model = CustomModel(784, 10)\n",
        "sb_model = copy.deepcopy(gd_model)\n",
        "\n",
        "if torch.cuda.is_available():\n",
        "    gd_model = gd_model.cuda()\n",
        "    sb_model = sb_model.cuda()"
      ],
      "execution_count": 0,
      "outputs": []
    },
    {
      "cell_type": "code",
      "metadata": {
        "id": "ySi2glFRY7iM",
        "colab_type": "code",
        "colab": {}
      },
      "source": [
        "loss = torch.nn.CrossEntropyLoss().cuda()\n",
        "def regularizer(parameters, alpha=0.1):\n",
        "    value = 0.0\n",
        "    for p in parameters:\n",
        "        value += alpha * (p**2 / (1 + p**2)).sum()\n",
        "    return value"
      ],
      "execution_count": 0,
      "outputs": []
    },
    {
      "cell_type": "code",
      "metadata": {
        "id": "ING4gd6_Y7iS",
        "colab_type": "code",
        "colab": {}
      },
      "source": [
        "batch_size = 2048\n",
        "learning_rate = 0.001\n",
        "n_epochs = 100"
      ],
      "execution_count": 0,
      "outputs": []
    },
    {
      "cell_type": "code",
      "metadata": {
        "scrolled": true,
        "id": "1CRVPi9GY7iX",
        "colab_type": "code",
        "colab": {
          "base_uri": "https://localhost:8080/",
          "height": 187
        },
        "outputId": "d989ea7b-3612-4831-f169-a9892f78d2cb"
      },
      "source": [
        "gd_total_loss = gradient_descent(train_dataset, batch_size, gd_model, loss, regularizer, learning_rate, n_epochs)\n",
        "sb_total_loss = spider_boost(train_dataset, batch_size, sb_model, loss, regularizer, learning_rate, n_epochs)"
      ],
      "execution_count": 17,
      "outputs": [
        {
          "output_type": "stream",
          "text": [
            "epoch: 0\n",
            "epoch: 20\n",
            "epoch: 40\n",
            "epoch: 60\n",
            "epoch: 80\n",
            "epoch: 0\n",
            "epoch: 20\n",
            "epoch: 40\n",
            "epoch: 60\n",
            "epoch: 80\n"
          ],
          "name": "stderr"
        }
      ]
    },
    {
      "cell_type": "code",
      "metadata": {
        "id": "z9u9Ta8gNqOt",
        "colab_type": "code",
        "colab": {
          "base_uri": "https://localhost:8080/",
          "height": 265
        },
        "outputId": "cde4e435-d5f1-459b-adcd-4723cb12f65d"
      },
      "source": [
        "plt.scatter(np.arange(n_epochs), gd_total_loss)\n",
        "plt.scatter(np.arange(n_epochs), sb_total_loss, color='orange')\n",
        "plt.show()"
      ],
      "execution_count": 18,
      "outputs": [
        {
          "output_type": "display_data",
          "data": {
            "image/png": "[encoded data removed]",
            "text/plain": [
              "<Figure size 432x288 with 1 Axes>"
            ]
          },
          "metadata": {
            "tags": [],
            "needs_background": "light"
          }
        }
      ]
    }
  ]
}
