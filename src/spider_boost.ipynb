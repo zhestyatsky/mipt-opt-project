{
 "cells": [
  {
   "cell_type": "code",
   "execution_count": 35,
   "metadata": {},
   "outputs": [],
   "source": [
    "import copy\n",
    "import matplotlib.pyplot as plt\n",
    "import numpy as np\n",
    "import torch\n",
    "import torchvision.datasets as dsets\n",
    "import torchvision.transforms as transforms\n",
    "import sys\n",
    "import random"
   ]
  },
  {
   "cell_type": "code",
   "execution_count": 36,
   "metadata": {},
   "outputs": [],
   "source": [
    "def gradient_descent(x, y, model, loss, lr, n_iters, samples_num):\n",
    "    total_loss = np.zeros(n_iters)\n",
    "    optimizer = torch.optim.SGD(model.parameters(), lr=lr)\n",
    "    mask_helper = range(y.shape[0])\n",
    "    \n",
    "    for k in range(n_iters):\n",
    "        y_pred = model(x)\n",
    "        sample = random.sample(mask_helper, samples_num)\n",
    "        l = loss(y_pred[sample], y[sample])\n",
    "        l.backward()\n",
    "        total_loss[k] = loss(y_pred, y).item()\n",
    "        optimizer.step()\n",
    "        optimizer.zero_grad()\n",
    "    return total_loss"
   ]
  },
  {
   "cell_type": "code",
   "execution_count": 57,
   "metadata": {},
   "outputs": [],
   "source": [
    "def spider_boost(x, y, model, model_prev, loss, lr, q, n_iters, samples_num):\n",
    "    total_loss = np.zeros(n_iters)\n",
    "    \n",
    "    opt = torch.optim.SGD(model.parameters(), lr=lr)\n",
    "    opt_prev = torch.optim.SGD(model_prev.parameters(), lr=lr)\n",
    "    \n",
    "    mask_helper = range(y.shape[0])\n",
    "    \n",
    "    for k in range(n_iters):\n",
    "        if k % q == 0:\n",
    "            # Calculating fool gradient\n",
    "            opt.zero_grad()\n",
    "            y_pred = model(x)\n",
    "            main_loss = loss(y_pred, y)\n",
    "            main_loss.backward()\n",
    "            total_loss[k] = main_loss.item()\n",
    "            \n",
    "            # Saving current model state and zero grad it\n",
    "            for param, param_prev in zip(model.parameters(), model_prev.parameters()):\n",
    "                param_prev.data = param.data.clone().detach()\n",
    "            opt_prev.zero_grad()\n",
    "            \n",
    "            opt.step()\n",
    "        else:\n",
    "            sample = random.sample(mask_helper, samples_num)\n",
    "            \n",
    "            # Add positive sample gradients\n",
    "            y_pred = model(x)\n",
    "            sample_loss = loss(y_pred[sample], y[sample])\n",
    "            sample_loss.backward()\n",
    "            \n",
    "            # Calculate sample gradients of previous state\n",
    "            y_pred_prev = model_prev(x)\n",
    "            sample_loss_prev = loss(y_pred_prev[sample], y[sample])\n",
    "            sample_loss_prev.backward()\n",
    "            \n",
    "            # Subtract those gradients from current gradients and save current satae\n",
    "            for param, param_prev in zip(model.parameters(), model_prev.parameters()):\n",
    "                param.grad.data -= param_prev.grad.data\n",
    "                param_prev.data = param.data.clone().detach()\n",
    "            opt_prev.zero_grad()\n",
    "            \n",
    "            # Save total loss\n",
    "            main_loss = loss(y_pred, y)\n",
    "            total_loss[k] = main_loss.item()\n",
    "            \n",
    "            opt.step()\n",
    "    return total_loss"
   ]
  },
  {
   "cell_type": "code",
   "execution_count": 59,
   "metadata": {},
   "outputs": [],
   "source": [
    "train_dataset = dsets.MNIST(root='~/.pytorch/MNIST_data/', train=True, transform=transforms.ToTensor(), download=True)\n",
    "train_loader = torch.utils.data.DataLoader(dataset=train_dataset, batch_size=len(train_dataset), shuffle=True)"
   ]
  },
  {
   "cell_type": "code",
   "execution_count": 107,
   "metadata": {},
   "outputs": [],
   "source": [
    "images, labels = next(iter(train_loader))\n",
    "images = images.view(-1, 28 * 28)"
   ]
  },
  {
   "cell_type": "code",
   "execution_count": 88,
   "metadata": {},
   "outputs": [],
   "source": [
    "learning_rate = 0.01\n",
    "q = 2 * len(labels) // 256\n",
    "n_iters = 5000\n",
    "samples_num = 256\n",
    "loss = torch.nn.CrossEntropyLoss()"
   ]
  },
  {
   "cell_type": "code",
   "execution_count": 90,
   "metadata": {
    "scrolled": true
   },
   "outputs": [],
   "source": [
    "class LogisticRegression(torch.nn.Module):\n",
    "    def __init__(self, input_dim, output_dim):\n",
    "        super(LogisticRegression, self).__init__()\n",
    "        self.linear = torch.nn.Linear(input_dim, output_dim)\n",
    "\n",
    "    def forward(self, x):\n",
    "        outputs = torch.sigmoid(self.linear(x))\n",
    "        return outputs\n",
    "\n",
    "gd_model = LogisticRegression(784, 10)\n",
    "sb_model = copy.deepcopy(gd_model)\n",
    "sb_model_prev = copy.deepcopy(gd_model)\n",
    "\n",
    "gd_total_loss = gradient_descent(images, labels, gd_model, loss, learning_rate, n_iters, samples_num)\n",
    "sp_boost_total_loss = spider_boost(images, labels, sb_model, sb_model_prev, loss, learning_rate, q, n_iters, samples_num)"
   ]
  },
  {
   "cell_type": "code",
   "execution_count": 91,
   "metadata": {
    "scrolled": true
   },
   "outputs": [
    {
     "data": {
      "image/png": "[encoded data removed]",
      "text/plain": [
       "<Figure size 432x288 with 1 Axes>"
      ]
     },
     "metadata": {
      "needs_background": "light"
     },
     "output_type": "display_data"
    }
   ],
   "source": [
    "plt.scatter(np.arange(n_iters), gd_total_loss)\n",
    "plt.scatter(np.arange(n_iters), sp_boost_total_loss, color='orange')\n",
    "plt.show()"
   ]
  },
  {
   "cell_type": "code",
   "execution_count": 100,
   "metadata": {},
   "outputs": [
    {
     "data": {
      "image/png": "[encoded data removed]",
      "text/plain": [
       "<Figure size 432x288 with 1 Axes>"
      ]
     },
     "metadata": {
      "needs_background": "light"
     },
     "output_type": "display_data"
    }
   ],
   "source": [
    "gd_epochs_loss = gd_total_loss[0::q]\n",
    "sp_boost_epochs_loss = sp_boost_total_loss[0::q]\n",
    "\n",
    "num_epochs = len(gd_epochs_loss)\n",
    "\n",
    "plt.scatter(np.arange(num_epochs), gd_epochs_loss)\n",
    "plt.scatter(np.arange(num_epochs), sp_boost_epochs_loss, color='orange')\n",
    "plt.show()"
   ]
  }
 ],
 "metadata": {
  "kernelspec": {
   "display_name": "Python 3",
   "language": "python",
   "name": "python3"
  },
  "language_info": {
   "codemirror_mode": {
    "name": "ipython",
    "version": 3
   },
   "file_extension": ".py",
   "mimetype": "text/x-python",
   "name": "python",
   "nbconvert_exporter": "python",
   "pygments_lexer": "ipython3",
   "version": "3.7.7"
  }
 },
 "nbformat": 4,
 "nbformat_minor": 4
}
