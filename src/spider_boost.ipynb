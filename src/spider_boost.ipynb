{
 "cells": [
  {
   "cell_type": "code",
   "execution_count": 10,
   "metadata": {},
   "outputs": [],
   "source": [
    "import matplotlib.pyplot as plt\n",
    "import numpy as np\n",
    "import torch\n",
    "from torch.autograd import Variable\n",
    "from sklearn import datasets\n",
    "from time import time\n",
    "import sys\n",
    "import random"
   ]
  },
  {
   "cell_type": "code",
   "execution_count": 11,
   "metadata": {},
   "outputs": [],
   "source": [
    "n_samples = 10000\n",
    "n_features = 20\n",
    "X_numpy, Y_numpy = datasets.make_regression(n_samples=n_samples, n_features=n_features, noise=20, random_state=4)\n",
    "X = torch.from_numpy(X_numpy.astype(np.float32))\n",
    "Y = torch.from_numpy(Y_numpy.astype(np.float32)).view(-1, 1)"
   ]
  },
  {
   "cell_type": "code",
   "execution_count": 12,
   "metadata": {},
   "outputs": [],
   "source": [
    "def gradient_descent(x, y, model, loss, lr, n_iters):\n",
    "    total_loss = np.zeros(n_iters)\n",
    "    optimizer = torch.optim.SGD(model.parameters(), lr=lr)\n",
    "    for k in range(n_iters):\n",
    "        y_pred = model(x)\n",
    "        l = loss(y_pred, y)\n",
    "        l.backward()\n",
    "        total_loss[k] = l.item()\n",
    "        optimizer.step()\n",
    "        optimizer.zero_grad()\n",
    "    return total_loss"
   ]
  },
  {
   "cell_type": "code",
   "execution_count": 19,
   "metadata": {},
   "outputs": [],
   "source": [
    "def spider_boost(x, y, model, loss, lr, full_grad_count, n_iters, samples_num):\n",
    "    total_loss = np.zeros(n_iters)\n",
    "    optimizer = torch.optim.SGD(model.parameters(), lr=lr)\n",
    "    \n",
    "    q = n_iters // full_grad_count\n",
    "    mask_helper = range(y.shape[0])\n",
    "\n",
    "    sample = None\n",
    "    extra_grads = None\n",
    "    \n",
    "    for k in range(n_iters):\n",
    "        y_pred = model(x)\n",
    "        if k % q == 0:\n",
    "            #print('full grad')\n",
    "            # Compute sample and gradients sum for the next step\n",
    "            optimizer.zero_grad()\n",
    "            sample = random.sample(mask_helper, samples_num)\n",
    "            extra_loss = loss(y_pred[sample], y[sample])\n",
    "            extra_loss.backward(retain_graph=True)\n",
    "            extra_grads = [p.grad.clone().detach() for p in model.parameters()]\n",
    "            \n",
    "            #print(f'iter={k}: saving extra_grads')\n",
    "            #for gr in extra_grads:\n",
    "            #    print(f'extra grad = {gr}')\n",
    "            \n",
    "            # Optimize with usual default gradient descent\n",
    "            optimizer.zero_grad()\n",
    "            main_loss = loss(y_pred, y)\n",
    "            main_loss.backward()\n",
    "            total_loss[k] = main_loss.item()\n",
    "            optimizer.step()\n",
    "        else:\n",
    "            #print('sum grads')\n",
    "            # Add precomputed negative gradients\n",
    "            with torch.no_grad():\n",
    "                #print(f'iter={k}, substracting extra_grads')\n",
    "                for p, ex_grad in zip(model.parameters(), extra_grads):\n",
    "                    #print(f'curr grad = {p.grad}, extra grad = {ex_grad}')\n",
    "                    \"\"\"\n",
    "                    HERE IT SHOULD BE SUBSTRACTION INSTEAD OF ADDITION\n",
    "                    \"\"\"\n",
    "                    p.grad.add_(ex_grad)\n",
    "            \n",
    "            #for p in model.parameters():\n",
    "            #    print(f'grad after substracting = {p.grad}')\n",
    "            \n",
    "            # Add current step gradients, using precomputed sample\n",
    "            positive_loss = loss(y_pred[sample], y[sample])\n",
    "            positive_loss.backward(retain_graph=True)\n",
    "            \n",
    "            #for p in model.parameters():\n",
    "            #    print(f'grad after adding = {p.grad}')\n",
    "            \n",
    "            sample = None\n",
    "            extra_grads = None\n",
    "            \n",
    "            # Compute sample and negative gradients sum for the next step\n",
    "            if (k + 1) % q != 0:\n",
    "                # Save current gradients\n",
    "                curr_grads = [p.grad.clone().detach() for p in model.parameters()]\n",
    "                #print(f'saving curr_grads: {curr_grads}')\n",
    "                \n",
    "                # Compute sample and gradients sum for the next step\n",
    "                optimizer.zero_grad()\n",
    "                sample = random.sample(mask_helper, samples_num)\n",
    "                extra_loss = loss(y_pred[sample], y[sample])\n",
    "                extra_loss.backward()\n",
    "                extra_grads = [p.grad.clone().detach() for p in model.parameters()]\n",
    "                \n",
    "                #print(f'iter={k}: saving extra_grads')\n",
    "                #for gr in extra_grads:\n",
    "                #    print(f'extra grad = {gr}')\n",
    "                \n",
    "                # Return gradients back\n",
    "                optimizer.zero_grad()\n",
    "                with torch.no_grad():\n",
    "                    for p, curr_grad in zip(model.parameters(), curr_grads):\n",
    "                        p.grad = curr_grad\n",
    "                        #print(f'curr_grad is again {p.grad}')\n",
    "            \n",
    "            # Save total loss\n",
    "            main_loss = loss(y_pred, y)\n",
    "            total_loss[k] = main_loss.item()\n",
    "            \n",
    "            # Optimize with sum of three components\n",
    "            optimizer.step()\n",
    "    return total_loss"
   ]
  },
  {
   "cell_type": "code",
   "execution_count": 20,
   "metadata": {},
   "outputs": [
    {
     "ename": "AttributeError",
     "evalue": "module 'torch.nn' has no attribute 'nn'",
     "output_type": "error",
     "traceback": [
      "\u001b[0;31m---------------------------------------------------------------------------\u001b[0m",
      "\u001b[0;31mAttributeError\u001b[0m                            Traceback (most recent call last)",
      "\u001b[0;32m<ipython-input-20-024382a974f6>\u001b[0m in \u001b[0;36m<module>\u001b[0;34m\u001b[0m\n\u001b[1;32m      3\u001b[0m \u001b[0mfull_grad_count\u001b[0m \u001b[0;34m=\u001b[0m \u001b[0mn_iters\u001b[0m \u001b[0;34m//\u001b[0m \u001b[0;36m10\u001b[0m\u001b[0;34m\u001b[0m\u001b[0;34m\u001b[0m\u001b[0m\n\u001b[1;32m      4\u001b[0m \u001b[0msamples_num\u001b[0m \u001b[0;34m=\u001b[0m \u001b[0mn_samples\u001b[0m \u001b[0;34m//\u001b[0m \u001b[0;36m2\u001b[0m\u001b[0;34m\u001b[0m\u001b[0;34m\u001b[0m\u001b[0m\n\u001b[0;32m----> 5\u001b[0;31m \u001b[0mloss\u001b[0m \u001b[0;34m=\u001b[0m \u001b[0mtorch\u001b[0m\u001b[0;34m.\u001b[0m\u001b[0mnn\u001b[0m\u001b[0;34m.\u001b[0m\u001b[0mnn\u001b[0m\u001b[0;34m.\u001b[0m\u001b[0mNLLLoss\u001b[0m\u001b[0;34m(\u001b[0m\u001b[0;34m)\u001b[0m\u001b[0;34m\u001b[0m\u001b[0;34m\u001b[0m\u001b[0m\n\u001b[0m",
      "\u001b[0;31mAttributeError\u001b[0m: module 'torch.nn' has no attribute 'nn'"
     ]
    }
   ],
   "source": [
    "learning_rate = 0.01\n",
    "n_iters = 50\n",
    "full_grad_count = n_iters // 10\n",
    "samples_num = n_samples // 2\n",
    "loss = torch.nn.nn.NLLLoss()"
   ]
  },
  {
   "cell_type": "code",
   "execution_count": 21,
   "metadata": {
    "scrolled": false
   },
   "outputs": [
    {
     "data": {
      "text/plain": [
       "<matplotlib.collections.PathCollection at 0x106e23d10>"
      ]
     },
     "execution_count": 21,
     "metadata": {},
     "output_type": "execute_result"
    },
    {
     "data": {
      "image/png": "[encoded data removed]",
      "text/plain": [
       "<Figure size 432x288 with 1 Axes>"
      ]
     },
     "metadata": {
      "needs_background": "light"
     },
     "output_type": "display_data"
    }
   ],
   "source": [
    "class LogisticRegression(torch.nn.Module):\n",
    "    def __init__(self, input_dim, output_dim):\n",
    "        super(LogisticRegression, self).__init__()\n",
    "        self.linear = torch.nn.Linear(input_dim, output_dim)\n",
    "    def forward(self, x):\n",
    "        y_pred = torch.sigmoid(self.linear(x))\n",
    "        return y_pred\n",
    "    \n",
    "model = LogisticRegression(n_features, 1)\n",
    "gd_total_loss = gradient_descent(X, Y, model, loss, learning_rate, n_iters)\n",
    "\n",
    "model = LogisticRegression(n_features, 1)\n",
    "sp_boost_total_loss = spider_boost(X, Y, model, loss, learning_rate, full_grad_count, n_iters, samples_num)\n",
    "\n",
    "plt.scatter(np.arange(n_iters), gd_total_loss)\n",
    "plt.scatter(np.arange(n_iters), sp_boost_total_loss, color='orange')"
   ]
  },
  {
   "cell_type": "code",
   "execution_count": null,
   "metadata": {},
   "outputs": [],
   "source": []
  }
 ],
 "metadata": {
  "kernelspec": {
   "display_name": "Python 3",
   "language": "python",
   "name": "python3"
  },
  "language_info": {
   "codemirror_mode": {
    "name": "ipython",
    "version": 3
   },
   "file_extension": ".py",
   "mimetype": "text/x-python",
   "name": "python",
   "nbconvert_exporter": "python",
   "pygments_lexer": "ipython3",
   "version": "3.7.7"
  }
 },
 "nbformat": 4,
 "nbformat_minor": 4
}
