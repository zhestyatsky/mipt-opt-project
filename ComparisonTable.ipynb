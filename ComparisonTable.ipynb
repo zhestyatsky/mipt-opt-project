{
 "cells": [
  {
   "cell_type": "markdown",
   "metadata": {},
   "source": [
    "# Natasha 2 и SpiderBoost\n",
    "\n",
    "#### Сравнение алгоритмов\n",
    "\n",
    "Natasha 2 и SpiderBoost - недавно разработанные стохастические алгоритмы решения задач оптимизации.  \n",
    "Оба алгоритма предусматривают решение задачи:\n",
    "\n",
    "$$\\min_{x \\in \\mathbb{R}^d} f(x) = \\frac{1}{n} \\sum_{i = 1}^n f_i(x) = \\mathbb{E}_i[f_i(x)],$$\n",
    "\n",
    "где $\\{f_i(x)\\}_{i=1}^n$ - в общем случае гладкие невыпуклые функции \n",
    "\n",
    "Подробнее с описанием работы алгоритмов можно ознакомиться по следующим ссылкам:\n",
    "\n",
    "[Natasha-2: описание работы](https://github.com/zhestyatsky/mipt-opt-project/blob/savelov/natasha-2-algorithm.ipynb)\n",
    "\n",
    "[Spider и SpiderBoost: краткий обзор](https://github.com/zhestyatsky/mipt-opt-project/blob/master/summary/Spider.ipynb)\n",
    "\n",
    "## Сравнение характеристик\n",
    "\n",
    "#### Основные характеристики алгоритмов в сравнительной таблице\n",
    "\n",
    "| Хараеткристика        | SpiderBoost           | Natasha-2  |\n",
    "| :-------------:| :-------------:| :-------:|\n",
    "| Порядок метода | I | II |\n",
    "| Искомый вектор  |   $$\\hat{x} \\in \\mathbb{R}^d: \\hat{x} \\in \\mathbb{R}^d: \\Vert \\nabla f(\\hat{x}) \\Vert \\leq \\varepsilon$$   |  $$\\hat{x} \\in \\mathbb{R}^d: \\Vert \\nabla f(\\hat{x}) \\Vert \\leq \\varepsilon;  \\nabla^2 f(\\hat{x}) \\succeq -\\delta\\mathbf{I} $$  |\n",
    "| Вид целевой функции | <ul><li>$$\\exists \\inf_{\\mathbf{x} \\in \\mathbb{R}^d} f(\\mathbf{x}) > -\\infty$$</li><li>$$\\forall i \\in 1 \\dots n, \\forall x, y \\in \\mathbb{R}^d, \\Arrowvert \\nabla f_i(x) - \\nabla f_i(y) \\Arrowvert \\leq L \\Arrowvert x - y \\Arrowvert $$</li></ul>      |   <ul><li>$$\\exists \\nu: \\mathbb{E}_i  [ \\Vert \\nabla f_i(x) - \\nabla f(x) \\Vert^2 ] < \\nu$$</li><li>$$\\Vert \\nabla f(x) - \\nabla f(y) \\Vert \\leq L \\cdot \\Vert x - y \\Vert$$</li><li>$$\\Vert \\nabla^2 f(x) - \\nabla^2 f(y) \\Vert \\leq L_2 \\cdot \\Vert x -y \\Vert$$</li></ul>   |\n",
    "| Основная идея |  Стохастический спуск по данным собственной функции $\\nu$ вместо градиента  |    Избегать седловых точек пользуясь информацией из Гессиана |\n",
    "| Порядок сходимости |    $O(\\min(n^{\\frac{1}{2}} \\epsilon^{-2}, \\epsilon^{-3}))$  |   $\\tilde{O}(\\frac{1}{\\delta^5} + \\frac{1}{\\delta \\epsilon^3} + \\frac{1}{\\epsilon^{3.25}})$ |\n",
    "| Шаг алгоритма | $O(\\epsilon^{\\frac{2}{3}}L^{- \\frac{2}{3}})$     |   $O(L^{-1})$ |\n",
    "\n",
    "\n",
    "\n",
    "#### Сравнение сложности различных алгоритмов оптимизации\n",
    "\n",
    "| Алгоритм        | Сложность     | \n",
    "| ------------- |:-------------:|\n",
    "| Natasha-2    | $$\\tilde{O}(\\frac{1}{\\delta^5} + \\frac{1}{\\delta \\epsilon^3} + \\frac{1}{\\epsilon^{3.25}})$$ | \n",
    "|   SpiderBoost   | $$O(\\min(n^{\\frac{1}{2}} \\epsilon^{-2}, \\epsilon^{-3}))$$   |     \n",
    "| Mirror Descent [[1]](http://www.princeton.edu/~yc5/ele522_optimization/lectures/mirror_descent.pdf) | $$f(x_k) - f(x^*) = O(L_{f} \\frac{\\log n}{n})$$      |   \n",
    "| Nesterov Momentum [[2]](https://nbviewer.jupyter.org/github/amkatrutsa/MIPT-Opt/blob/master/ODE4NesterovAcc/ODE4NesterovAcc.ipynb) | $$f(x_k) - f(x^*) = O\\big(L_{f}\\Arrowvert x_k - x_0 \\Arrowvert^2_2 (1 -\\frac{1}{\\sqrt{k}})^k\\big)$$ |  \n",
    "|  Newton [[3]](https://github.com/amkatrutsa/MIPT-Opt/blob/master/Spring2020/newton_quasi.ipynb)| <ul><li>Сходимость$$\\Arrowvert x_{k + 1} - x^* \\Arrowvert_2 \\leq \\frac{L_{Hess} \\Arrowvert x_{k} - x^* \\Arrowvert^2_2}{2 (\\delta - L_{Hess} \\Arrowvert x_{k} - x^* \\Arrowvert_2)}$$</li><li>Сложность: $O(n^3)$</li></ul> |\n",
    "\n",
    "\n"
   ]
  },
  {
   "cell_type": "code",
   "execution_count": null,
   "metadata": {},
   "outputs": [],
   "source": []
  }
 ],
 "metadata": {
  "kernelspec": {
   "display_name": "Python 3",
   "language": "python",
   "name": "python3"
  },
  "language_info": {
   "codemirror_mode": {
    "name": "ipython",
    "version": 3
   },
   "file_extension": ".py",
   "mimetype": "text/x-python",
   "name": "python",
   "nbconvert_exporter": "python",
   "pygments_lexer": "ipython3",
   "version": "3.7.6"
  }
 },
 "nbformat": 4,
 "nbformat_minor": 4
}
